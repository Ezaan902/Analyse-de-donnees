{
 "cells": [
  {
   "cell_type": "markdown",
   "id": "8edc12ee",
   "metadata": {},
   "source": [
    "# ANALYSE DES VENTES D'UNE LIBRAIRIE SOUS PYTHON\n",
    "## CHARGEMENT ET NETTOYAGE DES DONNEES\n",
    "### SOMMAIRE \n",
    "1. [ETAPE 1 : Chargement des jeux de données](#paragraph1)\n",
    "    1. [Importer les éléments nécessaires au chargement et à l'analyse des données](#subparagraph1)\n",
    "    2. [Prendre connaissance des jeux de données](#subparagraph2)    \n",
    "2. [ETAPE 2 : Nettoyage des jeux de données](#paragraph2)\n",
    "    1. [Nettoyage du fichier \"products\"](#subparagraph3)\n",
    "    2. [Nettoyage du fichier \"customers\"](#subparagraph4)\n",
    "    3. [Nettoyage du fichier \"transactions\"](#subparagraph5)"
   ]
  },
  {
   "cell_type": "markdown",
   "id": "7738522e",
   "metadata": {},
   "source": [
    "## ETAPE 1 : Chargement des jeux de données <a name=\"paragraph1\"></a>\n",
    "\n",
    " *Dans cette première étape, nous allons importer les différents jeux de données qui nous ont été envoyés par Antoine et mener quelques vérifications sur celles-ci avant de procéder au nettoyage*\n",
    " \n",
    " ### A. Importer les éléments nécessaires au chargement et à l'analyse des données <a name=\"subparagraph1\"></a>\n",
    " \n",
    "#### Dans un premier temps, nous Importons les librairies dont nous avons besoin à savoir : pandas, numpy, matplotlib, seaborn, re, os, platform."
   ]
  },
  {
   "cell_type": "code",
   "execution_count": 51,
   "id": "34820611",
   "metadata": {},
   "outputs": [],
   "source": [
    "# Importation des librairies\n",
    "import importlib.metadata\n",
    "from datetime import date\n",
    "import pandas as pd\n",
    "import numpy as np\n",
    "import matplotlib.pyplot as plt\n",
    "import seaborn as sns\n",
    "import re\n",
    "import os\n",
    "import platform\n",
    "import plotly.express as px\n",
    "import plotly.graph_objs as go\n",
    "from sklearn.linear_model import LinearRegression\n",
    "from sklearn.model_selection import train_test_split"
   ]
  },
  {
   "cell_type": "markdown",
   "id": "42e43057",
   "metadata": {},
   "source": [
    "    Descriptif des principales librairies utilisées :\n",
    "* <span style=\"color:magenta\">pandas</span> est utilisé pour manipuler des données statistiques,\n",
    "* <span style=\"color:magenta\">numpy</span> est utilisé pour les calculs scientifiques,\n",
    "* <span style=\"color:magenta\">seaborn</span> est utilisé pour la visualisation de données et de graphiques statistiques,\n",
    "* <span style=\"color:magenta\">matplotlib</span> est également utilisé pour la visualisation de données et de graphiques statistiques,\n",
    "* <span style=\"color:magenta\">os</span> est utilisé pour fournir une façon portable d'utiliser les fonctionnalités dépendantes du système d'exploitation,\n",
    "* <span style=\"color:magenta\">platform</span> est utilisé pour interroger l'exécutable le système d'exploitation pour diverses informations sur l'architecture,\n",
    "* <span style=\"color:magenta\">re</span> est utilisé pour le traitement de caractères.\n",
    "\n",
    "#### Dans un second temps, nous renseigons les versions des librairies et du système d'exploitation utilisés."
   ]
  },
  {
   "cell_type": "code",
   "execution_count": 2,
   "id": "a214bbb1",
   "metadata": {},
   "outputs": [
    {
     "name": "stdout",
     "output_type": "stream",
     "text": [
      "Python 3.9.12\n",
      "version de numpy :  1.21.5\n",
      "version de re :  2.2.1\n",
      "version de seaborn :  0.11.2\n",
      "Version de matplotlib :  3.5.1\n",
      "Version de plotly :  5.6.0\n",
      "nom de l'OS :  nt\n",
      "nom de la plateforme :  Windows\n",
      "version :  10\n"
     ]
    }
   ],
   "source": [
    "# Version de python et des librairies utilisées\n",
    "!python --version\n",
    "\n",
    "print(\"version de numpy : \",np.__version__)\n",
    "print(\"version de re : \",re.__version__)\n",
    "print(\"version de seaborn : \",sns.__version__)\n",
    "print(\"Version de matplotlib : \",importlib.metadata.version('matplotlib'))\n",
    "print(\"Version de plotly : \",importlib.metadata.version('plotly'))\n",
    "\n",
    "print(\"nom de l'OS : \",os.name)\n",
    "print(\"nom de la plateforme : \",platform.system())\n",
    "print(\"version : \",platform.release())"
   ]
  },
  {
   "cell_type": "markdown",
   "id": "802ea051",
   "metadata": {},
   "source": [
    " ### B. Prendre connaissance des jeux de données <a name=\"subparagraph2\"></a>\n",
    "Nous commencons par  lister les jeux de données sur lesquels nous allons devoir travailler."
   ]
  },
  {
   "cell_type": "code",
   "execution_count": 3,
   "id": "a9c64ed2",
   "metadata": {},
   "outputs": [
    {
     "name": "stdout",
     "output_type": "stream",
     "text": [
      "['.ipynb_checkpoints', 'ANALYSE (1).ipynb', 'Chargement et nettoyage des donnees.ipynb', 'customers.csv', 'Data.csv', 'formation présentation.pptx', 'Graph', 'products.csv', 'transactions.csv']\n"
     ]
    }
   ],
   "source": [
    "# Liste des jeux de données\n",
    "print(os.listdir(r'C:\\Users\\Axel BENOIT\\FORMATION\\Analyse des ventes'))"
   ]
  },
  {
   "cell_type": "markdown",
   "id": "6d29f796",
   "metadata": {},
   "source": [
    "Nous détenons l'information qu'il existe trois jeux de données.Nous allons ouvrir ces fichiers pour obtenir un premier aperçu des informations présentes dans chacun d'entre-eux.\n",
    "#### FICHIER \"TRANSACTIONS\""
   ]
  },
  {
   "cell_type": "code",
   "execution_count": 4,
   "id": "8d95ef05",
   "metadata": {
    "scrolled": false
   },
   "outputs": [
    {
     "name": "stdout",
     "output_type": "stream",
     "text": [
      "<class 'pandas.core.frame.DataFrame'>\n",
      "RangeIndex: 679532 entries, 0 to 679531\n",
      "Data columns (total 4 columns):\n",
      " #   Column      Non-Null Count   Dtype \n",
      "---  ------      --------------   ----- \n",
      " 0   id_prod     679532 non-null  object\n",
      " 1   date        679532 non-null  object\n",
      " 2   session_id  679532 non-null  object\n",
      " 3   client_id   679532 non-null  object\n",
      "dtypes: object(4)\n",
      "memory usage: 20.7+ MB\n"
     ]
    },
    {
     "data": {
      "text/html": [
       "<div>\n",
       "<style scoped>\n",
       "    .dataframe tbody tr th:only-of-type {\n",
       "        vertical-align: middle;\n",
       "    }\n",
       "\n",
       "    .dataframe tbody tr th {\n",
       "        vertical-align: top;\n",
       "    }\n",
       "\n",
       "    .dataframe thead th {\n",
       "        text-align: right;\n",
       "    }\n",
       "</style>\n",
       "<table border=\"1\" class=\"dataframe\">\n",
       "  <thead>\n",
       "    <tr style=\"text-align: right;\">\n",
       "      <th></th>\n",
       "      <th>id_prod</th>\n",
       "      <th>date</th>\n",
       "      <th>session_id</th>\n",
       "      <th>client_id</th>\n",
       "    </tr>\n",
       "  </thead>\n",
       "  <tbody>\n",
       "    <tr>\n",
       "      <th>0</th>\n",
       "      <td>0_1518</td>\n",
       "      <td>2022-05-20 13:21:29.043970</td>\n",
       "      <td>s_211425</td>\n",
       "      <td>c_103</td>\n",
       "    </tr>\n",
       "    <tr>\n",
       "      <th>1</th>\n",
       "      <td>1_251</td>\n",
       "      <td>2022-02-02 07:55:19.149409</td>\n",
       "      <td>s_158752</td>\n",
       "      <td>c_8534</td>\n",
       "    </tr>\n",
       "    <tr>\n",
       "      <th>2</th>\n",
       "      <td>0_1277</td>\n",
       "      <td>2022-06-18 15:44:33.155329</td>\n",
       "      <td>s_225667</td>\n",
       "      <td>c_6714</td>\n",
       "    </tr>\n",
       "    <tr>\n",
       "      <th>3</th>\n",
       "      <td>2_209</td>\n",
       "      <td>2021-06-24 04:19:29.835891</td>\n",
       "      <td>s_52962</td>\n",
       "      <td>c_6941</td>\n",
       "    </tr>\n",
       "    <tr>\n",
       "      <th>4</th>\n",
       "      <td>0_1509</td>\n",
       "      <td>2023-01-11 08:22:08.194479</td>\n",
       "      <td>s_325227</td>\n",
       "      <td>c_4232</td>\n",
       "    </tr>\n",
       "  </tbody>\n",
       "</table>\n",
       "</div>"
      ],
      "text/plain": [
       "  id_prod                        date session_id client_id\n",
       "0  0_1518  2022-05-20 13:21:29.043970   s_211425     c_103\n",
       "1   1_251  2022-02-02 07:55:19.149409   s_158752    c_8534\n",
       "2  0_1277  2022-06-18 15:44:33.155329   s_225667    c_6714\n",
       "3   2_209  2021-06-24 04:19:29.835891    s_52962    c_6941\n",
       "4  0_1509  2023-01-11 08:22:08.194479   s_325227    c_4232"
      ]
     },
     "metadata": {},
     "output_type": "display_data"
    }
   ],
   "source": [
    "# Lecture des fichiers csv\n",
    "df_transactions = pd.read_csv('transactions.csv')\n",
    "\n",
    "# Informations sur la base de données\n",
    "df_transactions.info()\n",
    "\n",
    "# Visualisation des données sous forme de tableau\n",
    "display(df_transactions.head(5))"
   ]
  },
  {
   "cell_type": "markdown",
   "id": "6f5e457e",
   "metadata": {},
   "source": [
    "#### FICHIER \"PRODUCTS\""
   ]
  },
  {
   "cell_type": "code",
   "execution_count": 5,
   "id": "054d88bb",
   "metadata": {},
   "outputs": [
    {
     "name": "stdout",
     "output_type": "stream",
     "text": [
      "<class 'pandas.core.frame.DataFrame'>\n",
      "RangeIndex: 3287 entries, 0 to 3286\n",
      "Data columns (total 3 columns):\n",
      " #   Column   Non-Null Count  Dtype  \n",
      "---  ------   --------------  -----  \n",
      " 0   id_prod  3287 non-null   object \n",
      " 1   price    3287 non-null   float64\n",
      " 2   categ    3287 non-null   int64  \n",
      "dtypes: float64(1), int64(1), object(1)\n",
      "memory usage: 77.2+ KB\n"
     ]
    },
    {
     "data": {
      "text/html": [
       "<div>\n",
       "<style scoped>\n",
       "    .dataframe tbody tr th:only-of-type {\n",
       "        vertical-align: middle;\n",
       "    }\n",
       "\n",
       "    .dataframe tbody tr th {\n",
       "        vertical-align: top;\n",
       "    }\n",
       "\n",
       "    .dataframe thead th {\n",
       "        text-align: right;\n",
       "    }\n",
       "</style>\n",
       "<table border=\"1\" class=\"dataframe\">\n",
       "  <thead>\n",
       "    <tr style=\"text-align: right;\">\n",
       "      <th></th>\n",
       "      <th>id_prod</th>\n",
       "      <th>price</th>\n",
       "      <th>categ</th>\n",
       "    </tr>\n",
       "  </thead>\n",
       "  <tbody>\n",
       "    <tr>\n",
       "      <th>0</th>\n",
       "      <td>0_1421</td>\n",
       "      <td>19.99</td>\n",
       "      <td>0</td>\n",
       "    </tr>\n",
       "    <tr>\n",
       "      <th>1</th>\n",
       "      <td>0_1368</td>\n",
       "      <td>5.13</td>\n",
       "      <td>0</td>\n",
       "    </tr>\n",
       "    <tr>\n",
       "      <th>2</th>\n",
       "      <td>0_731</td>\n",
       "      <td>17.99</td>\n",
       "      <td>0</td>\n",
       "    </tr>\n",
       "    <tr>\n",
       "      <th>3</th>\n",
       "      <td>1_587</td>\n",
       "      <td>4.99</td>\n",
       "      <td>1</td>\n",
       "    </tr>\n",
       "    <tr>\n",
       "      <th>4</th>\n",
       "      <td>0_1507</td>\n",
       "      <td>3.99</td>\n",
       "      <td>0</td>\n",
       "    </tr>\n",
       "  </tbody>\n",
       "</table>\n",
       "</div>"
      ],
      "text/plain": [
       "  id_prod  price  categ\n",
       "0  0_1421  19.99      0\n",
       "1  0_1368   5.13      0\n",
       "2   0_731  17.99      0\n",
       "3   1_587   4.99      1\n",
       "4  0_1507   3.99      0"
      ]
     },
     "metadata": {},
     "output_type": "display_data"
    }
   ],
   "source": [
    "# On réitère le même processus sur le fichier product\n",
    "df_products = pd.read_csv('products.csv')\n",
    "df_products.info()\n",
    "display(df_products.head((5)))"
   ]
  },
  {
   "cell_type": "markdown",
   "id": "61f2f4eb",
   "metadata": {},
   "source": [
    "#### FICHIER \"CUSTOMERS\""
   ]
  },
  {
   "cell_type": "code",
   "execution_count": 6,
   "id": "c38154ce",
   "metadata": {},
   "outputs": [
    {
     "name": "stdout",
     "output_type": "stream",
     "text": [
      "<class 'pandas.core.frame.DataFrame'>\n",
      "RangeIndex: 8623 entries, 0 to 8622\n",
      "Data columns (total 3 columns):\n",
      " #   Column     Non-Null Count  Dtype \n",
      "---  ------     --------------  ----- \n",
      " 0   client_id  8623 non-null   object\n",
      " 1   sex        8623 non-null   object\n",
      " 2   birth      8623 non-null   int64 \n",
      "dtypes: int64(1), object(2)\n",
      "memory usage: 202.2+ KB\n"
     ]
    },
    {
     "data": {
      "text/html": [
       "<div>\n",
       "<style scoped>\n",
       "    .dataframe tbody tr th:only-of-type {\n",
       "        vertical-align: middle;\n",
       "    }\n",
       "\n",
       "    .dataframe tbody tr th {\n",
       "        vertical-align: top;\n",
       "    }\n",
       "\n",
       "    .dataframe thead th {\n",
       "        text-align: right;\n",
       "    }\n",
       "</style>\n",
       "<table border=\"1\" class=\"dataframe\">\n",
       "  <thead>\n",
       "    <tr style=\"text-align: right;\">\n",
       "      <th></th>\n",
       "      <th>client_id</th>\n",
       "      <th>sex</th>\n",
       "      <th>birth</th>\n",
       "    </tr>\n",
       "  </thead>\n",
       "  <tbody>\n",
       "    <tr>\n",
       "      <th>0</th>\n",
       "      <td>c_4410</td>\n",
       "      <td>f</td>\n",
       "      <td>1967</td>\n",
       "    </tr>\n",
       "    <tr>\n",
       "      <th>1</th>\n",
       "      <td>c_7839</td>\n",
       "      <td>f</td>\n",
       "      <td>1975</td>\n",
       "    </tr>\n",
       "    <tr>\n",
       "      <th>2</th>\n",
       "      <td>c_1699</td>\n",
       "      <td>f</td>\n",
       "      <td>1984</td>\n",
       "    </tr>\n",
       "    <tr>\n",
       "      <th>3</th>\n",
       "      <td>c_5961</td>\n",
       "      <td>f</td>\n",
       "      <td>1962</td>\n",
       "    </tr>\n",
       "    <tr>\n",
       "      <th>4</th>\n",
       "      <td>c_5320</td>\n",
       "      <td>m</td>\n",
       "      <td>1943</td>\n",
       "    </tr>\n",
       "  </tbody>\n",
       "</table>\n",
       "</div>"
      ],
      "text/plain": [
       "  client_id sex  birth\n",
       "0    c_4410   f   1967\n",
       "1    c_7839   f   1975\n",
       "2    c_1699   f   1984\n",
       "3    c_5961   f   1962\n",
       "4    c_5320   m   1943"
      ]
     },
     "metadata": {},
     "output_type": "display_data"
    }
   ],
   "source": [
    "# On réitère le même processus sur le fichier customers\n",
    "df_customers = pd.read_csv('customers.csv')\n",
    "df_customers.info()\n",
    "display(df_customers.head((5)))"
   ]
  },
  {
   "cell_type": "markdown",
   "id": "1f8b6ac7",
   "metadata": {},
   "source": [
    "### Observations générales :\n",
    "\n",
    "L'execution de ce bloc de code nous permet d'afficher la structure d'un DataFrame et ses premières lignes. Nous connaissons à présent le nombre de lignes, de colonnes, leur type et s'il existe des valeurs manquantes.\n",
    "\n",
    "- A priori, il n'existe pas de valeurs manquantes dans les trois fichiers que nous avons lu.\n",
    "- A l'inverse du premier, les fichiers \"customers.csv\" et \"products.csv\" continnent des données au format texte (object) et numérique entier (int64). Plus spécifiquement, le dernier fichier contient des données au format texte et au format numérique entier et décimal.\n",
    "- La lecture des fichiers nous permet déjà d'envisager la qualification d'un profil client et de quelques agrégats économiques. En regardant de plus près, nous voyons la possibilité de réaliser une jointure des fichiers \"customers.csv\" et \"products.csv\" sur la base du fichier \"transaction.csv\" et des variables 'id_prod'et 'client_id' pour regrouper les données.\n",
    "\n",
    "Avant toute chose, il est nécessaire de nettoyer les données."
   ]
  },
  {
   "cell_type": "markdown",
   "id": "0f476edf",
   "metadata": {},
   "source": [
    "## ETAPE 2 : Nettoyage des jeux de données <a name=\"paragraph2\"></a>\n",
    "\n",
    "Nous allons nettoyer l'ensemble des fichiers avant de pouvoir les compiler et établir une jointure entre les jeux de données.\n",
    "Pour cela, nous allons inspecter les fichiers à la recherche de valeurs manquantes, de doublons, de valeurs extrêmes ou abérrantes pour chacun des fichiers."
   ]
  },
  {
   "cell_type": "markdown",
   "id": "129dd0b0",
   "metadata": {},
   "source": [
    "### A. Nettoyage du fichier \"products\" <a name=\"subparagraph3\"></a>"
   ]
  },
  {
   "cell_type": "markdown",
   "id": "421075dd",
   "metadata": {},
   "source": [
    "Nous pouvons directement commencer par inspecter s'il existe des doublons. Nous n'avons pas besoin de vérifier les valeurs manquantes par la fonction \".isnull()\", car cette information est déjà renseignée par la fonction \".info()\""
   ]
  },
  {
   "cell_type": "code",
   "execution_count": 7,
   "id": "f6c9b205",
   "metadata": {},
   "outputs": [
    {
     "name": "stdout",
     "output_type": "stream",
     "text": [
      "0 doublons\n"
     ]
    }
   ],
   "source": [
    "# Fonction pour définir le nombre de doublons\n",
    "def doublons(df_products): \n",
    "    print(len(df_products) - len(df_products.drop_duplicates()), 'doublons')\n",
    "\n",
    "doublons(df_products)"
   ]
  },
  {
   "cell_type": "code",
   "execution_count": 8,
   "id": "6bb4e97f",
   "metadata": {},
   "outputs": [
    {
     "name": "stdout",
     "output_type": "stream",
     "text": [
      "Clé primaire (0 doublon)\n"
     ]
    }
   ],
   "source": [
    "# Fonction pour vérification de la clé primaire\n",
    "def cle_primaire (df_products): \n",
    "  table_length = len(df_products) - len(df_products.drop_duplicates())\n",
    "  if table_length == 0:\n",
    "    print('Clé primaire (0 doublon)')\n",
    "  else:\n",
    "    print('Pas une clé primaire (', table_length, 'doublons )')\n",
    "    \n",
    "cle_primaire(df_products['id_prod'])"
   ]
  },
  {
   "cell_type": "code",
   "execution_count": 9,
   "id": "e4b382c2",
   "metadata": {},
   "outputs": [
    {
     "data": {
      "text/html": [
       "<div>\n",
       "<style scoped>\n",
       "    .dataframe tbody tr th:only-of-type {\n",
       "        vertical-align: middle;\n",
       "    }\n",
       "\n",
       "    .dataframe tbody tr th {\n",
       "        vertical-align: top;\n",
       "    }\n",
       "\n",
       "    .dataframe thead th {\n",
       "        text-align: right;\n",
       "    }\n",
       "</style>\n",
       "<table border=\"1\" class=\"dataframe\">\n",
       "  <thead>\n",
       "    <tr style=\"text-align: right;\">\n",
       "      <th></th>\n",
       "      <th>id_prod</th>\n",
       "      <th>price</th>\n",
       "      <th>categ</th>\n",
       "    </tr>\n",
       "  </thead>\n",
       "  <tbody>\n",
       "    <tr>\n",
       "      <th>count</th>\n",
       "      <td>3287</td>\n",
       "      <td>3287.000000</td>\n",
       "      <td>3287.000000</td>\n",
       "    </tr>\n",
       "    <tr>\n",
       "      <th>unique</th>\n",
       "      <td>3287</td>\n",
       "      <td>NaN</td>\n",
       "      <td>NaN</td>\n",
       "    </tr>\n",
       "    <tr>\n",
       "      <th>top</th>\n",
       "      <td>0_1421</td>\n",
       "      <td>NaN</td>\n",
       "      <td>NaN</td>\n",
       "    </tr>\n",
       "    <tr>\n",
       "      <th>freq</th>\n",
       "      <td>1</td>\n",
       "      <td>NaN</td>\n",
       "      <td>NaN</td>\n",
       "    </tr>\n",
       "    <tr>\n",
       "      <th>mean</th>\n",
       "      <td>NaN</td>\n",
       "      <td>21.856641</td>\n",
       "      <td>0.370246</td>\n",
       "    </tr>\n",
       "    <tr>\n",
       "      <th>std</th>\n",
       "      <td>NaN</td>\n",
       "      <td>29.847908</td>\n",
       "      <td>0.615387</td>\n",
       "    </tr>\n",
       "    <tr>\n",
       "      <th>min</th>\n",
       "      <td>NaN</td>\n",
       "      <td>-1.000000</td>\n",
       "      <td>0.000000</td>\n",
       "    </tr>\n",
       "    <tr>\n",
       "      <th>25%</th>\n",
       "      <td>NaN</td>\n",
       "      <td>6.990000</td>\n",
       "      <td>0.000000</td>\n",
       "    </tr>\n",
       "    <tr>\n",
       "      <th>50%</th>\n",
       "      <td>NaN</td>\n",
       "      <td>13.060000</td>\n",
       "      <td>0.000000</td>\n",
       "    </tr>\n",
       "    <tr>\n",
       "      <th>75%</th>\n",
       "      <td>NaN</td>\n",
       "      <td>22.990000</td>\n",
       "      <td>1.000000</td>\n",
       "    </tr>\n",
       "    <tr>\n",
       "      <th>max</th>\n",
       "      <td>NaN</td>\n",
       "      <td>300.000000</td>\n",
       "      <td>2.000000</td>\n",
       "    </tr>\n",
       "  </tbody>\n",
       "</table>\n",
       "</div>"
      ],
      "text/plain": [
       "       id_prod        price        categ\n",
       "count     3287  3287.000000  3287.000000\n",
       "unique    3287          NaN          NaN\n",
       "top     0_1421          NaN          NaN\n",
       "freq         1          NaN          NaN\n",
       "mean       NaN    21.856641     0.370246\n",
       "std        NaN    29.847908     0.615387\n",
       "min        NaN    -1.000000     0.000000\n",
       "25%        NaN     6.990000     0.000000\n",
       "50%        NaN    13.060000     0.000000\n",
       "75%        NaN    22.990000     1.000000\n",
       "max        NaN   300.000000     2.000000"
      ]
     },
     "metadata": {},
     "output_type": "display_data"
    }
   ],
   "source": [
    "# recherche d'informations sur le fichier et la catégorie des prix\n",
    "# La valeur (-1) apparait abérrante.\n",
    "display(df_products.describe(include='all'))"
   ]
  },
  {
   "cell_type": "code",
   "execution_count": 10,
   "id": "83073b08",
   "metadata": {},
   "outputs": [
    {
     "name": "stdout",
     "output_type": "stream",
     "text": [
      "(array([731], dtype=int64),)\n",
      "T_0\n"
     ]
    }
   ],
   "source": [
    "# recherche de la valeur abérrante (-1)\n",
    "print(np.where(df_products['price']<0))\n",
    "print(df_products.iloc[731,0])"
   ]
  },
  {
   "cell_type": "code",
   "execution_count": 11,
   "id": "5ecedccf",
   "metadata": {},
   "outputs": [
    {
     "name": "stderr",
     "output_type": "stream",
     "text": [
      "C:\\Users\\Axel BENOIT\\AppData\\Local\\Temp\\ipykernel_20832\\1512528506.py:2: FutureWarning: In a future version of pandas all arguments of DataFrame.drop except for the argument 'labels' will be keyword-only.\n",
      "  df_products.drop(731,0,inplace=True)\n"
     ]
    }
   ],
   "source": [
    "# suppression de la valeur abérrante (-1)\n",
    "df_products.drop(731,0,inplace=True)"
   ]
  },
  {
   "cell_type": "markdown",
   "id": "ed298ff0",
   "metadata": {},
   "source": [
    "### Observations :\n",
    "- Le fichier ne contient pas de valeurs manquantes.\n",
    "- Le fichier ne contient pas de doublons.\n",
    "- Le fichier semble contenir une valeur abérrante. Lorsque l'on étudie la catégorie price, on observe un prix négatif (min -1). Nous avonc donc repéré et choisi de supprimer la ligne de ce produit."
   ]
  },
  {
   "cell_type": "code",
   "execution_count": 101,
   "id": "8e3b497b",
   "metadata": {
    "scrolled": false
   },
   "outputs": [
    {
     "data": {
      "image/png": "[encoded data removed]",
      "text/plain": [
       "<Figure size 720x360 with 1 Axes>"
      ]
     },
     "metadata": {},
     "output_type": "display_data"
    }
   ],
   "source": [
    "# observation de la distribution des prix\n",
    "\n",
    "plt.figure(figsize=(10,5))\n",
    "\n",
    "# Génération du graphique\n",
    "sns.boxplot(data=df_products, y='categ', x='price', orient='h', showfliers=False, showmeans=True, palette=[\"mistyrose\",\"lightcoral\",'brown'], meanprops={\"marker\":\"s\",\"markerfacecolor\":\"white\"})\n",
    "\n",
    "# titre du graphique\n",
    "plt.title(\"DISTRIBUTION DES PRIX PAR CATEGORIE\",weight='bold', size=20)\n",
    "\n",
    "# titre des axes et paramètres\n",
    "plt.xlabel(\"Mois\", fontsize=15)\n",
    "plt.ylabel(\"Proportion\", fontsize=15)\n",
    "plt.show()\n"
   ]
  },
  {
   "cell_type": "code",
   "execution_count": 13,
   "id": "478f712b",
   "metadata": {},
   "outputs": [
    {
     "name": "stdout",
     "output_type": "stream",
     "text": [
      "Catégorie 0 : \n",
      "- Prix moyen : 11.73 \n",
      "- Prix médian : 10.32 \n",
      "- Mode : 4.99\n",
      "Catégorie 1 : \n",
      "- Prix moyen : 25.53 \n",
      "- Prix médian : 22.99 \n",
      "- Mode : 22.99\n",
      "Catégorie 2 : \n",
      "- Prix moyen : 108.35 \n",
      "- Prix médian : 101.99 \n",
      "- Mode : 50.99\n"
     ]
    }
   ],
   "source": [
    "print('Catégorie 0 :',\n",
    "    '\\n- Prix moyen :', round(df_products[df_products['categ']==0]['price'].mean(), 2),\n",
    "    '\\n- Prix médian :', df_products[df_products['categ']==0]['price'].median(), \n",
    "    '\\n- Mode :', df_products[df_products['categ']==0]['price'].mode().values[0]) \n",
    "\n",
    "print('Catégorie 1 :',\n",
    "    '\\n- Prix moyen :', round(df_products[df_products['categ']==1]['price'].mean(), 2),\n",
    "    '\\n- Prix médian :', df_products[df_products['categ']==1]['price'].median(), \n",
    "    '\\n- Mode :', df_products[df_products['categ']==1]['price'].mode().values[0]) \n",
    "\n",
    "print('Catégorie 2 :',\n",
    "    '\\n- Prix moyen :', round(df_products[df_products['categ']==2]['price'].mean(), 2),\n",
    "    '\\n- Prix médian :', df_products[df_products['categ']==2]['price'].median(), \n",
    "    '\\n- Mode :', df_products[df_products['categ']==2]['price'].mode().values[0]) "
   ]
  },
  {
   "cell_type": "markdown",
   "id": "f32fcb66",
   "metadata": {},
   "source": [
    "### Observations :\n",
    "- Dans la distribution des prix, nous observons quelques valeurs élevées. Nous décidons de les garder car celles-ci peuvent se jusitifier. Il peut par exemple s'agir d'une collection entière d'un produit, ce qui pourrait expliquer les prix observés. Sans informations supplémentaires, il est préférable de les garder.\n",
    "- On notera également la variation de l'intervalle des prix en fonction des catégories. Pour aller plus loin, nous renseignons pour chaque catégorie, le prix moyen, le prix médian et le mode."
   ]
  },
  {
   "cell_type": "code",
   "execution_count": 102,
   "id": "c4551e21",
   "metadata": {},
   "outputs": [
    {
     "data": {
      "image/png": "[encoded data removed]",
      "text/plain": [
       "<Figure size 720x360 with 1 Axes>"
      ]
     },
     "metadata": {},
     "output_type": "display_data"
    }
   ],
   "source": [
    "# Information sur les catégories\n",
    "categ = df_products['categ'].value_counts()\n",
    "id_prod = df_products['id_prod'].value_counts()\n",
    "\n",
    "fig = plt.figure(figsize = (10, 5))\n",
    "\n",
    "# suppression de l'arrière plan\n",
    "fig.patch.set_visible(False)\n",
    "ax = plt.axes()\n",
    "ax.patch.set_visible(False)\n",
    "\n",
    "# supression du cadre\n",
    "ax.spines['right'].set_visible(False)\n",
    "ax.spines['top'].set_visible(False)\n",
    "ax.spines['left'].set_color('black')\n",
    "ax.spines['bottom'].set_visible(False)\n",
    "\n",
    "# titre du graphique\n",
    "plt.title(\"DISTRIBUTION DES PRODUITS PAR CATEGORIE\",weight='bold', size=20)\n",
    "\n",
    "# titre des axes\n",
    "plt.xlabel('Volume', fontsize=15)\n",
    "plt.ylabel('Categories', fontsize=15)\n",
    "\n",
    "# paramètre des axes\n",
    "plt.tick_params(axis='x', labelsize=10)\n",
    "plt.tick_params(axis='y', labelsize=10)\n",
    "\n",
    "# Génération du graphique\n",
    "categ.plot.barh(color='lightcoral')\n",
    "plt.grid(False)\n",
    "plt.show()"
   ]
  },
  {
   "cell_type": "markdown",
   "id": "2585b4a9",
   "metadata": {},
   "source": [
    "### Observations :\n",
    "- La catégorie la plus représentée est la catégorie 0, suivi de la 1, puis de la 2.\n",
    "- Nous ne connaissons par la définition des catégories, mais celles-ci semblent correspondrent à des produits d'une gamme particulière. Le numéro de catégorie est constitutif de la variable l'id_prod.\n",
    "\n",
    "\n",
    "Nous avons remarqué qu'une seule erreur, celle d'une valeur abérante (-1). Après avoir réalisé sa suppression le fichier semble propre.\n",
    "\n",
    "L'id \"T_0\" retient notre attention car celui-ci ne semble par constituer de la même manière que les autres. Il ne commence pas par un chiffre appartenant à une catégorie (0,1,2), mais par une lettre (t).*\n"
   ]
  },
  {
   "cell_type": "markdown",
   "id": "e6d10dc3",
   "metadata": {},
   "source": [
    "### B. Nettoyage du fichier \"customers\" <a name=\"subparagraph4\"></a>"
   ]
  },
  {
   "cell_type": "code",
   "execution_count": 15,
   "id": "5b155b92",
   "metadata": {},
   "outputs": [
    {
     "name": "stdout",
     "output_type": "stream",
     "text": [
      "0 doublons\n"
     ]
    }
   ],
   "source": [
    "# Nous réutilisons la fonction pour vérifier s'il y a des doublons\n",
    "doublons(df_products)"
   ]
  },
  {
   "cell_type": "code",
   "execution_count": 16,
   "id": "35bb4864",
   "metadata": {},
   "outputs": [
    {
     "name": "stdout",
     "output_type": "stream",
     "text": [
      "Clé primaire (0 doublon)\n"
     ]
    }
   ],
   "source": [
    "# Nous réutilisons la fonction pour vérifier la clé primaire du fichier\n",
    "cle_primaire(df_products)"
   ]
  },
  {
   "cell_type": "code",
   "execution_count": 17,
   "id": "1b95f92b",
   "metadata": {
    "scrolled": true
   },
   "outputs": [
    {
     "data": {
      "text/html": [
       "<div>\n",
       "<style scoped>\n",
       "    .dataframe tbody tr th:only-of-type {\n",
       "        vertical-align: middle;\n",
       "    }\n",
       "\n",
       "    .dataframe tbody tr th {\n",
       "        vertical-align: top;\n",
       "    }\n",
       "\n",
       "    .dataframe thead th {\n",
       "        text-align: right;\n",
       "    }\n",
       "</style>\n",
       "<table border=\"1\" class=\"dataframe\">\n",
       "  <thead>\n",
       "    <tr style=\"text-align: right;\">\n",
       "      <th></th>\n",
       "      <th>client_id</th>\n",
       "      <th>sex</th>\n",
       "      <th>birth</th>\n",
       "    </tr>\n",
       "  </thead>\n",
       "  <tbody>\n",
       "    <tr>\n",
       "      <th>count</th>\n",
       "      <td>8623</td>\n",
       "      <td>8623</td>\n",
       "      <td>8623.000000</td>\n",
       "    </tr>\n",
       "    <tr>\n",
       "      <th>unique</th>\n",
       "      <td>8623</td>\n",
       "      <td>2</td>\n",
       "      <td>NaN</td>\n",
       "    </tr>\n",
       "    <tr>\n",
       "      <th>top</th>\n",
       "      <td>c_4410</td>\n",
       "      <td>f</td>\n",
       "      <td>NaN</td>\n",
       "    </tr>\n",
       "    <tr>\n",
       "      <th>freq</th>\n",
       "      <td>1</td>\n",
       "      <td>4491</td>\n",
       "      <td>NaN</td>\n",
       "    </tr>\n",
       "    <tr>\n",
       "      <th>mean</th>\n",
       "      <td>NaN</td>\n",
       "      <td>NaN</td>\n",
       "      <td>1978.280877</td>\n",
       "    </tr>\n",
       "    <tr>\n",
       "      <th>std</th>\n",
       "      <td>NaN</td>\n",
       "      <td>NaN</td>\n",
       "      <td>16.919535</td>\n",
       "    </tr>\n",
       "    <tr>\n",
       "      <th>min</th>\n",
       "      <td>NaN</td>\n",
       "      <td>NaN</td>\n",
       "      <td>1929.000000</td>\n",
       "    </tr>\n",
       "    <tr>\n",
       "      <th>25%</th>\n",
       "      <td>NaN</td>\n",
       "      <td>NaN</td>\n",
       "      <td>1966.000000</td>\n",
       "    </tr>\n",
       "    <tr>\n",
       "      <th>50%</th>\n",
       "      <td>NaN</td>\n",
       "      <td>NaN</td>\n",
       "      <td>1979.000000</td>\n",
       "    </tr>\n",
       "    <tr>\n",
       "      <th>75%</th>\n",
       "      <td>NaN</td>\n",
       "      <td>NaN</td>\n",
       "      <td>1992.000000</td>\n",
       "    </tr>\n",
       "    <tr>\n",
       "      <th>max</th>\n",
       "      <td>NaN</td>\n",
       "      <td>NaN</td>\n",
       "      <td>2004.000000</td>\n",
       "    </tr>\n",
       "  </tbody>\n",
       "</table>\n",
       "</div>"
      ],
      "text/plain": [
       "       client_id   sex        birth\n",
       "count       8623  8623  8623.000000\n",
       "unique      8623     2          NaN\n",
       "top       c_4410     f          NaN\n",
       "freq           1  4491          NaN\n",
       "mean         NaN   NaN  1978.280877\n",
       "std          NaN   NaN    16.919535\n",
       "min          NaN   NaN  1929.000000\n",
       "25%          NaN   NaN  1966.000000\n",
       "50%          NaN   NaN  1979.000000\n",
       "75%          NaN   NaN  1992.000000\n",
       "max          NaN   NaN  2004.000000"
      ]
     },
     "metadata": {},
     "output_type": "display_data"
    }
   ],
   "source": [
    "# recherche d'informations sur le fichier.\n",
    "display(df_customers.describe(include='all'))"
   ]
  },
  {
   "cell_type": "code",
   "execution_count": 18,
   "id": "85692b98",
   "metadata": {},
   "outputs": [
    {
     "name": "stdout",
     "output_type": "stream",
     "text": [
      "Modalités de 'sex' : ['f', 'm']\n"
     ]
    }
   ],
   "source": [
    "# recherche des modalités pour la variable sex\n",
    "print('Modalités de \\'sex\\' :', list(df_customers['sex'].unique()))"
   ]
  },
  {
   "cell_type": "markdown",
   "id": "008c9acb",
   "metadata": {},
   "source": [
    "### Observations :\n",
    "- Le fichier ne contient pas de valeurs manquantes.\n",
    "- Le fichier ne contient pas de doublons.\n",
    "- Le fichier ne semble pas contenir de valeurs abérrantes d'après les principales informations statistiques et la distribution graphique.\n",
    "- 2 modalités constituent la variable sex, à savoir : f (féminin) et m (masculin)."
   ]
  },
  {
   "cell_type": "code",
   "execution_count": 82,
   "id": "5d322619",
   "metadata": {
    "scrolled": false
   },
   "outputs": [
    {
     "data": {
      "text/plain": [
       "<AxesSubplot:>"
      ]
     },
     "metadata": {},
     "output_type": "display_data"
    },
    {
     "data": {
      "image/png": "[encoded data removed]",
      "text/plain": [
       "<Figure size 720x360 with 1 Axes>"
      ]
     },
     "metadata": {},
     "output_type": "display_data"
    }
   ],
   "source": [
    "# observation de la distribution des dates\n",
    "plt.figure(figsize = (10, 5))\n",
    "sns.set_style(style='whitegrid')\n",
    "display(sns.boxplot(data=df_customers['birth'], orient='h', color='lightcoral'))\n",
    "plt.title('DISTRIBUTION DES DATES', weight='bold',size=20)\n",
    "plt.tick_params(axis='x', labelsize=15)\n",
    "plt.xlabel(\"Années\", fontsize=15)\n",
    "plt.show()\n"
   ]
  },
  {
   "cell_type": "code",
   "execution_count": 56,
   "id": "e95060ec",
   "metadata": {},
   "outputs": [
    {
     "name": "stdout",
     "output_type": "stream",
     "text": [
      "75\n"
     ]
    }
   ],
   "source": [
    "# recherche du nombre de dates diférentes pour optimiser la distribution graphique des dates;\n",
    "birth= df_customers['birth']\n",
    "print(len(set(birth)))"
   ]
  },
  {
   "cell_type": "code",
   "execution_count": 97,
   "id": "c02001d9",
   "metadata": {},
   "outputs": [
    {
     "data": {
      "image/png": "[encoded data removed]",
      "text/plain": [
       "<Figure size 720x360 with 1 Axes>"
      ]
     },
     "metadata": {},
     "output_type": "display_data"
    }
   ],
   "source": [
    "birth= df_customers['birth']\n",
    "fig = plt.figure(figsize = (10, 5))\n",
    "\n",
    "# suppression de l'arrière plan\n",
    "fig.patch.set_visible(False)\n",
    "ax = plt.axes()\n",
    "ax.patch.set_visible(False)\n",
    "\n",
    "sns.set_style(style='white')\n",
    "\n",
    "# supression du cadre\n",
    "ax.spines['right'].set_visible(False)\n",
    "ax.spines['top'].set_visible(False)\n",
    "ax.spines['left'].set_visible(False)\n",
    "ax.spines['bottom'].set_color('black')\n",
    "\n",
    "# titre du graphique\n",
    "plt.title(\"DISTRIBUTION DES DATES DE NAISSANCE DE LA CLIENTE\",weight='bold', size=20)\n",
    "\n",
    "# Parametre des axes\n",
    "plt.tick_params(axis='x', labelsize=15)\n",
    "plt.tick_params(axis='y', labelsize=15)\n",
    "  \n",
    "# titre des axes\n",
    "birth.plot.hist(bins=76, density=True, histtype = 'step', orientation = 'vertical', linewidth=3, color='lightcoral')\n",
    "plt.xlabel(\"Années\", fontsize=15)\n",
    "plt.ylabel(\"Part en %\", fontsize=15)\n",
    "ax.yaxis.grid(True)\n",
    "plt.show()"
   ]
  },
  {
   "cell_type": "markdown",
   "id": "dd33d356",
   "metadata": {},
   "source": [
    "### Observations :\n",
    "- La distribution des dates de naissance de la clientèle montre une majorité de clients agés de moins de 25 ans.\n",
    "- Les années de naissance s'étalent de 1929 à 2004.\n",
    "- Aucune valeur ne semble incohérente.\n"
   ]
  },
  {
   "cell_type": "code",
   "execution_count": 22,
   "id": "60d90a56",
   "metadata": {},
   "outputs": [
    {
     "data": {
      "text/html": [
       "<div>\n",
       "<style scoped>\n",
       "    .dataframe tbody tr th:only-of-type {\n",
       "        vertical-align: middle;\n",
       "    }\n",
       "\n",
       "    .dataframe tbody tr th {\n",
       "        vertical-align: top;\n",
       "    }\n",
       "\n",
       "    .dataframe thead th {\n",
       "        text-align: right;\n",
       "    }\n",
       "</style>\n",
       "<table border=\"1\" class=\"dataframe\">\n",
       "  <thead>\n",
       "    <tr style=\"text-align: right;\">\n",
       "      <th></th>\n",
       "      <th>client_id</th>\n",
       "      <th>sex</th>\n",
       "      <th>birth</th>\n",
       "      <th>PERIOD</th>\n",
       "    </tr>\n",
       "  </thead>\n",
       "  <tbody>\n",
       "    <tr>\n",
       "      <th>0</th>\n",
       "      <td>c_4410</td>\n",
       "      <td>f</td>\n",
       "      <td>1967</td>\n",
       "      <td>1965 - 1969</td>\n",
       "    </tr>\n",
       "    <tr>\n",
       "      <th>1</th>\n",
       "      <td>c_7839</td>\n",
       "      <td>f</td>\n",
       "      <td>1975</td>\n",
       "      <td>1975 - 1979</td>\n",
       "    </tr>\n",
       "    <tr>\n",
       "      <th>2</th>\n",
       "      <td>c_1699</td>\n",
       "      <td>f</td>\n",
       "      <td>1984</td>\n",
       "      <td>1980 - 1984</td>\n",
       "    </tr>\n",
       "    <tr>\n",
       "      <th>3</th>\n",
       "      <td>c_5961</td>\n",
       "      <td>f</td>\n",
       "      <td>1962</td>\n",
       "      <td>1960 - 1964</td>\n",
       "    </tr>\n",
       "    <tr>\n",
       "      <th>4</th>\n",
       "      <td>c_5320</td>\n",
       "      <td>m</td>\n",
       "      <td>1943</td>\n",
       "      <td>1940 - 1944</td>\n",
       "    </tr>\n",
       "  </tbody>\n",
       "</table>\n",
       "</div>"
      ],
      "text/plain": [
       "  client_id sex  birth       PERIOD\n",
       "0    c_4410   f   1967  1965 - 1969\n",
       "1    c_7839   f   1975  1975 - 1979\n",
       "2    c_1699   f   1984  1980 - 1984\n",
       "3    c_5961   f   1962  1960 - 1964\n",
       "4    c_5320   m   1943  1940 - 1944"
      ]
     },
     "metadata": {},
     "output_type": "display_data"
    }
   ],
   "source": [
    "# Définition de la plage et de la période des dates de naissance pour un regroupement de données\n",
    "period_length = 5\n",
    "start_year = 1930\n",
    "end_year = 2004\n",
    "df_customers = df_customers[(df_customers['birth'] >= 1930) & (df_customers['birth'] <= 2004)]\n",
    "year_range = end_year - start_year\n",
    "modulo = year_range % period_length\n",
    "\n",
    "# Nous délimitons le début et la fin\n",
    "if modulo == 0:\n",
    "    final_start = end_year - period_length\n",
    "else:\n",
    "    final_start = end_year - modulo\n",
    "\n",
    "final_end = end_year + 1\n",
    "starts = np.arange(start_year, final_start, period_length).tolist()\n",
    "\n",
    "tuples = [(start, start+period_length) for start in starts]\n",
    "tuples.append(tuple([final_start, final_end]))\n",
    "bins = pd.IntervalIndex.from_tuples(tuples, closed='left')\n",
    "\n",
    "original_labels = list(bins.astype(str))\n",
    "new_labels = ['{} - {}'.format(b.strip('[)').split(', ')[0], int(b.strip('[)').split(', ')[1])-1) for b in original_labels]\n",
    "label_dict = dict(zip(original_labels, new_labels))\n",
    "\n",
    "df_customers['PERIOD'] = pd.cut(df_customers['birth'], bins=bins, include_lowest=True, precision=0)\n",
    "df_customers['PERIOD'] = df_customers['PERIOD'].astype(\"str\")\n",
    "df_customers = df_customers.replace(label_dict)\n",
    "\n",
    "display(df_customers.head())"
   ]
  },
  {
   "cell_type": "code",
   "execution_count": 23,
   "id": "a10a03ed",
   "metadata": {},
   "outputs": [
    {
     "name": "stdout",
     "output_type": "stream",
     "text": [
      "15\n"
     ]
    }
   ],
   "source": [
    "# Définition du nombre de périodes pour la réalisation graphique\n",
    "PERIOD = df_customers['PERIOD']\n",
    "print(len(set(PERIOD)))"
   ]
  },
  {
   "cell_type": "code",
   "execution_count": 88,
   "id": "cc2cfb8f",
   "metadata": {},
   "outputs": [
    {
     "data": {
      "image/png": "[encoded data removed]",
      "text/plain": [
       "<Figure size 720x360 with 1 Axes>"
      ]
     },
     "metadata": {},
     "output_type": "display_data"
    }
   ],
   "source": [
    "# dimension du graphique\n",
    "fig = plt.figure(figsize = (10, 5))\n",
    "\n",
    "# suppression de l'arrière plan\n",
    "fig.patch.set_visible(False)\n",
    "ax = plt.axes()\n",
    "ax.patch.set_visible(False)\n",
    "\n",
    "# supression du cadre\n",
    "ax.spines['right'].set_visible(False)\n",
    "ax.spines['top'].set_visible(False)\n",
    "ax.spines['left'].set_visible(False)\n",
    "ax.spines['bottom'].set_color('black')\n",
    "\n",
    "# titre du graphique\n",
    "plt.title(\"DISTRIBUTION DES DATES DE NAISSANCE DE LA CLIENTE\",weight='bold', size=20)\n",
    "\n",
    "# Parametre des axes\n",
    "plt.tick_params(axis='x', labelsize=15)\n",
    "plt.tick_params(axis='y', labelsize=15)\n",
    "\n",
    "ordered_bins = []\n",
    "for i in range(1930, 2004, 5):\n",
    "    ordered_bins.append(str(i) + ' - ' + str(i+4))\n",
    "\n",
    "period = df_customers['PERIOD'].value_counts().reindex(ordered_bins)\n",
    "\n",
    "# titre des axes\n",
    "period.plot.bar(color='lightcoral')\n",
    "ax.yaxis.grid(True)\n",
    "plt.tick_params(axis='x', labelsize=15)\n",
    "plt.tick_params(axis='y', labelsize=15)\n",
    "plt.xlabel(\"Période\", fontsize=15)\n",
    "plt.ylabel(\"Volume\", fontsize=15)\n",
    "plt.xticks(rotation=45)\n",
    "plt.show()"
   ]
  },
  {
   "cell_type": "code",
   "execution_count": 2,
   "id": "c39ab897",
   "metadata": {},
   "outputs": [
    {
     "ename": "NameError",
     "evalue": "name 'df_customers' is not defined",
     "output_type": "error",
     "traceback": [
      "\u001b[1;31m---------------------------------------------------------------------------\u001b[0m",
      "\u001b[1;31mNameError\u001b[0m                                 Traceback (most recent call last)",
      "Input \u001b[1;32mIn [2]\u001b[0m, in \u001b[0;36m<cell line: 2>\u001b[1;34m()\u001b[0m\n\u001b[0;32m      1\u001b[0m \u001b[38;5;66;03m# Vérification de la forme des identifiants\u001b[39;00m\n\u001b[1;32m----> 2\u001b[0m \u001b[38;5;28;01mfor\u001b[39;00m index, row \u001b[38;5;129;01min\u001b[39;00m \u001b[43mdf_customers\u001b[49m\u001b[38;5;241m.\u001b[39miterrows():\n\u001b[0;32m      3\u001b[0m     \u001b[38;5;28;01mif\u001b[39;00m \u001b[38;5;129;01mnot\u001b[39;00m \u001b[38;5;28mbool\u001b[39m(re\u001b[38;5;241m.\u001b[39mmatch(\u001b[38;5;124mr\u001b[39m\u001b[38;5;124m\"\u001b[39m\u001b[38;5;124mc_[0-9]+\u001b[39m\u001b[38;5;124m\"\u001b[39m, row[\u001b[38;5;124m'\u001b[39m\u001b[38;5;124mclient_id\u001b[39m\u001b[38;5;124m'\u001b[39m])):\n\u001b[0;32m      4\u001b[0m         \u001b[38;5;28mprint\u001b[39m(index, row[\u001b[38;5;124m'\u001b[39m\u001b[38;5;124mclient_id\u001b[39m\u001b[38;5;124m'\u001b[39m])\n",
      "\u001b[1;31mNameError\u001b[0m: name 'df_customers' is not defined"
     ]
    }
   ],
   "source": [
    "# Vérification de la forme des identifiants\n",
    "for index, row in df_customers.iterrows():\n",
    "    if not bool(re.match(r\"c_[0-9]+\", row['client_id'])):\n",
    "        print(index, row['client_id'])"
   ]
  },
  {
   "cell_type": "markdown",
   "id": "8f64b8ee",
   "metadata": {},
   "source": [
    "### Observations :\n",
    "- Le fichier ne contient pas de valeurs manquantes.\n",
    "- Le fichier ne contient pas de doublons sur la clé primaire 'id_client'.\n",
    "- Le fichier ne semble pas contenir de valeurs abérrantes sur les dates de naissance des clients.\n",
    "- La vérification de la forme des identifiants nous informe qu'il existe deux identifiants qui ont une forme différente, à savoir : 'ct_0' et 'ct_1'. Nous ne pocédons à aucune manipulation, mais nous gardons en tête la question de leur signification  pour une vérification à posteriori.\n",
    "\n",
    "Nous allons à présent, nettoyer le dernier fichier."
   ]
  },
  {
   "cell_type": "markdown",
   "id": "5fd83cc9",
   "metadata": {},
   "source": [
    "### C. Nettoyage du fichier \"transactions\" <a name=\"subparagraph5\"></a>"
   ]
  },
  {
   "cell_type": "code",
   "execution_count": 26,
   "id": "2ef5baf9",
   "metadata": {},
   "outputs": [
    {
     "name": "stdout",
     "output_type": "stream",
     "text": [
      "0 doublons\n"
     ]
    }
   ],
   "source": [
    "# Détection des doublons\n",
    "# La fonction ne renvoit à aucun doublon.S'agissant d'une base de données enregistraant les sessions \n",
    "doublons(df_products)"
   ]
  },
  {
   "cell_type": "code",
   "execution_count": 27,
   "id": "f06f2578",
   "metadata": {
    "scrolled": true
   },
   "outputs": [
    {
     "name": "stdout",
     "output_type": "stream",
     "text": [
      "Pas une clé primaire ( 126 doublons )\n"
     ]
    }
   ],
   "source": [
    "# Vérification des clés primaires\n",
    "cle_primaire(df_transactions[['client_id', 'id_prod', 'date']]) "
   ]
  },
  {
   "cell_type": "code",
   "execution_count": 28,
   "id": "e6f9478f",
   "metadata": {},
   "outputs": [
    {
     "name": "stdout",
     "output_type": "stream",
     "text": [
      "126 doublons détectés\n",
      "679406 lignes après suppression des doublons\n"
     ]
    }
   ],
   "source": [
    "# Affichage des doublons\n",
    "print(df_transactions.duplicated().sum(),\"doublons détectés\")\n",
    "\n",
    "# Suppression des doublons\n",
    "df_transactions.drop_duplicates(inplace=True)\n",
    "\n",
    "# Vérification du nombre de lignes\n",
    "print(len(df_transactions), 'lignes après suppression des doublons')"
   ]
  },
  {
   "cell_type": "code",
   "execution_count": 29,
   "id": "0da76900",
   "metadata": {
    "scrolled": false
   },
   "outputs": [
    {
     "data": {
      "text/html": [
       "<div>\n",
       "<style scoped>\n",
       "    .dataframe tbody tr th:only-of-type {\n",
       "        vertical-align: middle;\n",
       "    }\n",
       "\n",
       "    .dataframe tbody tr th {\n",
       "        vertical-align: top;\n",
       "    }\n",
       "\n",
       "    .dataframe thead th {\n",
       "        text-align: right;\n",
       "    }\n",
       "</style>\n",
       "<table border=\"1\" class=\"dataframe\">\n",
       "  <thead>\n",
       "    <tr style=\"text-align: right;\">\n",
       "      <th></th>\n",
       "      <th>id_prod</th>\n",
       "      <th>date</th>\n",
       "      <th>session_id</th>\n",
       "      <th>client_id</th>\n",
       "    </tr>\n",
       "  </thead>\n",
       "  <tbody>\n",
       "    <tr>\n",
       "      <th>count</th>\n",
       "      <td>679406</td>\n",
       "      <td>679406</td>\n",
       "      <td>679406</td>\n",
       "      <td>679406</td>\n",
       "    </tr>\n",
       "    <tr>\n",
       "      <th>unique</th>\n",
       "      <td>3267</td>\n",
       "      <td>679371</td>\n",
       "      <td>342316</td>\n",
       "      <td>8602</td>\n",
       "    </tr>\n",
       "    <tr>\n",
       "      <th>top</th>\n",
       "      <td>1_369</td>\n",
       "      <td>test_2021-03-01 02:30:02.237449</td>\n",
       "      <td>s_0</td>\n",
       "      <td>c_1609</td>\n",
       "    </tr>\n",
       "    <tr>\n",
       "      <th>freq</th>\n",
       "      <td>2252</td>\n",
       "      <td>2</td>\n",
       "      <td>74</td>\n",
       "      <td>25488</td>\n",
       "    </tr>\n",
       "  </tbody>\n",
       "</table>\n",
       "</div>"
      ],
      "text/plain": [
       "       id_prod                             date session_id client_id\n",
       "count   679406                           679406     679406    679406\n",
       "unique    3267                           679371     342316      8602\n",
       "top      1_369  test_2021-03-01 02:30:02.237449        s_0    c_1609\n",
       "freq      2252                                2         74     25488"
      ]
     },
     "metadata": {},
     "output_type": "display_data"
    }
   ],
   "source": [
    "# recherche d'informations sur le fichier.\n",
    "display(df_transactions.describe(include='all'))\n",
    "# le fichier contient une variable quantitative, la date"
   ]
  },
  {
   "cell_type": "code",
   "execution_count": 30,
   "id": "5ed6e5c2",
   "metadata": {
    "scrolled": false
   },
   "outputs": [
    {
     "name": "stdout",
     "output_type": "stream",
     "text": [
      "Clés de transactions non présentes dans clients :  3\n",
      "Clés de clients non présentes dans transactions :  21\n",
      "- - - - - - - - - - - - - - - - - - - - - - - - \n",
      "Clés de transactions non présentes dans produits :  2\n",
      "Clés de produits non présentes dans transactions :  21\n"
     ]
    }
   ],
   "source": [
    "# Comparaison d'une clé unique entre 2 dataframes\n",
    "def compare_keys(variable, df1, df1_name, df2, df2_name):\n",
    "    df1_keys = pd.DataFrame(df1[variable].unique()) # Projection de df1 sur la variable\n",
    "    df2_keys = pd.DataFrame(df2[variable].unique()) # Projection de df2 sur la variable\n",
    "       \n",
    "    keys_1 = df1_keys.merge( # Clés de df2 non présentes dans df1\n",
    "        df2_keys, how='outer', indicator=True).loc[lambda x : x['_merge']=='right_only']  \n",
    "    print('Clés de', df2_name, 'non présentes dans', df1_name + ' : ', len(keys_1))   \n",
    "    \n",
    "    keys_2 = df2_keys.merge(  # Clés de df1 non présentes dans df2\n",
    "    df1_keys, how='outer', indicator=True).loc[lambda x : x['_merge']=='right_only']\n",
    "    print('Clés de', df1_name, 'non présentes dans', df2_name + ' : ', len(keys_2))\n",
    "    \n",
    "# Comparaison de 'client_id' entre transactions et clients\n",
    "compare_keys('client_id', df_customers, 'clients', df_transactions, 'transactions') \n",
    "print('- ' * 24)\n",
    "\n",
    "# Comparaison de la clé 'id_prod' entre transactions et produits\n",
    "compare_keys('id_prod', df_products, 'produits', df_transactions, 'transactions') "
   ]
  },
  {
   "cell_type": "code",
   "execution_count": 31,
   "id": "5d672c8f",
   "metadata": {},
   "outputs": [
    {
     "data": {
      "text/html": [
       "<div>\n",
       "<style scoped>\n",
       "    .dataframe tbody tr th:only-of-type {\n",
       "        vertical-align: middle;\n",
       "    }\n",
       "\n",
       "    .dataframe tbody tr th {\n",
       "        vertical-align: top;\n",
       "    }\n",
       "\n",
       "    .dataframe thead th {\n",
       "        text-align: right;\n",
       "    }\n",
       "</style>\n",
       "<table border=\"1\" class=\"dataframe\">\n",
       "  <thead>\n",
       "    <tr style=\"text-align: right;\">\n",
       "      <th></th>\n",
       "      <th>id_prod</th>\n",
       "      <th>date</th>\n",
       "      <th>session_id</th>\n",
       "      <th>client_id</th>\n",
       "    </tr>\n",
       "  </thead>\n",
       "  <tbody>\n",
       "    <tr>\n",
       "      <th>2633</th>\n",
       "      <td>0_2245</td>\n",
       "      <td>2022-09-23 07:22:38.636773</td>\n",
       "      <td>s_272266</td>\n",
       "      <td>c_4746</td>\n",
       "    </tr>\n",
       "    <tr>\n",
       "      <th>3019</th>\n",
       "      <td>T_0</td>\n",
       "      <td>test_2021-03-01 02:30:02.237419</td>\n",
       "      <td>s_0</td>\n",
       "      <td>ct_0</td>\n",
       "    </tr>\n",
       "    <tr>\n",
       "      <th>5138</th>\n",
       "      <td>T_0</td>\n",
       "      <td>test_2021-03-01 02:30:02.237425</td>\n",
       "      <td>s_0</td>\n",
       "      <td>ct_0</td>\n",
       "    </tr>\n",
       "    <tr>\n",
       "      <th>9668</th>\n",
       "      <td>T_0</td>\n",
       "      <td>test_2021-03-01 02:30:02.237437</td>\n",
       "      <td>s_0</td>\n",
       "      <td>ct_1</td>\n",
       "    </tr>\n",
       "    <tr>\n",
       "      <th>10106</th>\n",
       "      <td>0_2245</td>\n",
       "      <td>2022-07-23 09:24:14.133889</td>\n",
       "      <td>s_242482</td>\n",
       "      <td>c_6713</td>\n",
       "    </tr>\n",
       "    <tr>\n",
       "      <th>...</th>\n",
       "      <td>...</td>\n",
       "      <td>...</td>\n",
       "      <td>...</td>\n",
       "      <td>...</td>\n",
       "    </tr>\n",
       "    <tr>\n",
       "      <th>670680</th>\n",
       "      <td>T_0</td>\n",
       "      <td>test_2021-03-01 02:30:02.237449</td>\n",
       "      <td>s_0</td>\n",
       "      <td>ct_1</td>\n",
       "    </tr>\n",
       "    <tr>\n",
       "      <th>670682</th>\n",
       "      <td>0_2245</td>\n",
       "      <td>2022-03-06 19:59:19.462288</td>\n",
       "      <td>s_175311</td>\n",
       "      <td>c_4167</td>\n",
       "    </tr>\n",
       "    <tr>\n",
       "      <th>671286</th>\n",
       "      <td>0_2245</td>\n",
       "      <td>2022-05-16 11:35:20.319501</td>\n",
       "      <td>s_209381</td>\n",
       "      <td>c_4453</td>\n",
       "    </tr>\n",
       "    <tr>\n",
       "      <th>675679</th>\n",
       "      <td>0_2245</td>\n",
       "      <td>2022-02-11 09:05:43.952857</td>\n",
       "      <td>s_163405</td>\n",
       "      <td>c_1098</td>\n",
       "    </tr>\n",
       "    <tr>\n",
       "      <th>677996</th>\n",
       "      <td>0_2245</td>\n",
       "      <td>2021-12-14 22:34:54.589921</td>\n",
       "      <td>s_134446</td>\n",
       "      <td>c_4854</td>\n",
       "    </tr>\n",
       "  </tbody>\n",
       "</table>\n",
       "<p>295 rows × 4 columns</p>\n",
       "</div>"
      ],
      "text/plain": [
       "       id_prod                             date session_id client_id\n",
       "2633    0_2245       2022-09-23 07:22:38.636773   s_272266    c_4746\n",
       "3019       T_0  test_2021-03-01 02:30:02.237419        s_0      ct_0\n",
       "5138       T_0  test_2021-03-01 02:30:02.237425        s_0      ct_0\n",
       "9668       T_0  test_2021-03-01 02:30:02.237437        s_0      ct_1\n",
       "10106   0_2245       2022-07-23 09:24:14.133889   s_242482    c_6713\n",
       "...        ...                              ...        ...       ...\n",
       "670680     T_0  test_2021-03-01 02:30:02.237449        s_0      ct_1\n",
       "670682  0_2245       2022-03-06 19:59:19.462288   s_175311    c_4167\n",
       "671286  0_2245       2022-05-16 11:35:20.319501   s_209381    c_4453\n",
       "675679  0_2245       2022-02-11 09:05:43.952857   s_163405    c_1098\n",
       "677996  0_2245       2021-12-14 22:34:54.589921   s_134446    c_4854\n",
       "\n",
       "[295 rows x 4 columns]"
      ]
     },
     "metadata": {},
     "output_type": "display_data"
    }
   ],
   "source": [
    "# Clé de 'id_prod' uniquement présente dans transactions\n",
    "display(df_transactions.drop(df_transactions[df_transactions['id_prod'].isin(df_products['id_prod'])].index))"
   ]
  },
  {
   "cell_type": "code",
   "execution_count": 32,
   "id": "c6b56005",
   "metadata": {},
   "outputs": [
    {
     "data": {
      "text/html": [
       "<div>\n",
       "<style scoped>\n",
       "    .dataframe tbody tr th:only-of-type {\n",
       "        vertical-align: middle;\n",
       "    }\n",
       "\n",
       "    .dataframe tbody tr th {\n",
       "        vertical-align: top;\n",
       "    }\n",
       "\n",
       "    .dataframe thead th {\n",
       "        text-align: right;\n",
       "    }\n",
       "</style>\n",
       "<table border=\"1\" class=\"dataframe\">\n",
       "  <thead>\n",
       "    <tr style=\"text-align: right;\">\n",
       "      <th></th>\n",
       "      <th>id_prod</th>\n",
       "      <th>date</th>\n",
       "      <th>session_id</th>\n",
       "      <th>client_id</th>\n",
       "    </tr>\n",
       "  </thead>\n",
       "  <tbody>\n",
       "    <tr>\n",
       "      <th>5925</th>\n",
       "      <td>0_1410</td>\n",
       "      <td>2022-07-10 02:20:40.037784</td>\n",
       "      <td>s_236166</td>\n",
       "      <td>c_577</td>\n",
       "    </tr>\n",
       "    <tr>\n",
       "      <th>8065</th>\n",
       "      <td>1_520</td>\n",
       "      <td>2022-11-26 08:49:31.629569</td>\n",
       "      <td>s_303000</td>\n",
       "      <td>c_5302</td>\n",
       "    </tr>\n",
       "    <tr>\n",
       "      <th>8790</th>\n",
       "      <td>1_381</td>\n",
       "      <td>2022-06-10 02:39:48.061727</td>\n",
       "      <td>s_221428</td>\n",
       "      <td>c_577</td>\n",
       "    </tr>\n",
       "    <tr>\n",
       "      <th>11025</th>\n",
       "      <td>1_735</td>\n",
       "      <td>2022-08-26 07:33:10.033618</td>\n",
       "      <td>s_258622</td>\n",
       "      <td>c_577</td>\n",
       "    </tr>\n",
       "    <tr>\n",
       "      <th>13082</th>\n",
       "      <td>1_527</td>\n",
       "      <td>2021-05-07 04:37:07.771808</td>\n",
       "      <td>s_30988</td>\n",
       "      <td>c_8362</td>\n",
       "    </tr>\n",
       "    <tr>\n",
       "      <th>...</th>\n",
       "      <td>...</td>\n",
       "      <td>...</td>\n",
       "      <td>...</td>\n",
       "      <td>...</td>\n",
       "    </tr>\n",
       "    <tr>\n",
       "      <th>661282</th>\n",
       "      <td>1_708</td>\n",
       "      <td>2023-01-08 03:41:25.574167</td>\n",
       "      <td>s_323631</td>\n",
       "      <td>c_577</td>\n",
       "    </tr>\n",
       "    <tr>\n",
       "      <th>670167</th>\n",
       "      <td>0_1626</td>\n",
       "      <td>2021-05-02 00:50:26.576072</td>\n",
       "      <td>s_28633</td>\n",
       "      <td>c_577</td>\n",
       "    </tr>\n",
       "    <tr>\n",
       "      <th>671578</th>\n",
       "      <td>0_2096</td>\n",
       "      <td>2021-11-26 07:22:43.209868</td>\n",
       "      <td>s_125219</td>\n",
       "      <td>c_577</td>\n",
       "    </tr>\n",
       "    <tr>\n",
       "      <th>672139</th>\n",
       "      <td>1_521</td>\n",
       "      <td>2022-07-11 04:57:20.717721</td>\n",
       "      <td>s_236737</td>\n",
       "      <td>c_5302</td>\n",
       "    </tr>\n",
       "    <tr>\n",
       "      <th>674504</th>\n",
       "      <td>1_536</td>\n",
       "      <td>2021-07-18 15:18:33.858570</td>\n",
       "      <td>s_64019</td>\n",
       "      <td>c_577</td>\n",
       "    </tr>\n",
       "  </tbody>\n",
       "</table>\n",
       "<p>201 rows × 4 columns</p>\n",
       "</div>"
      ],
      "text/plain": [
       "       id_prod                        date session_id client_id\n",
       "5925    0_1410  2022-07-10 02:20:40.037784   s_236166     c_577\n",
       "8065     1_520  2022-11-26 08:49:31.629569   s_303000    c_5302\n",
       "8790     1_381  2022-06-10 02:39:48.061727   s_221428     c_577\n",
       "11025    1_735  2022-08-26 07:33:10.033618   s_258622     c_577\n",
       "13082    1_527  2021-05-07 04:37:07.771808    s_30988    c_8362\n",
       "...        ...                         ...        ...       ...\n",
       "661282   1_708  2023-01-08 03:41:25.574167   s_323631     c_577\n",
       "670167  0_1626  2021-05-02 00:50:26.576072    s_28633     c_577\n",
       "671578  0_2096  2021-11-26 07:22:43.209868   s_125219     c_577\n",
       "672139   1_521  2022-07-11 04:57:20.717721   s_236737    c_5302\n",
       "674504   1_536  2021-07-18 15:18:33.858570    s_64019     c_577\n",
       "\n",
       "[201 rows x 4 columns]"
      ]
     },
     "metadata": {},
     "output_type": "display_data"
    }
   ],
   "source": [
    "# Clé de 'id_clients' uniquement présente dans transactions\n",
    "display(df_transactions.drop(df_transactions[df_transactions['client_id'].isin(df_customers['client_id'])].index))"
   ]
  },
  {
   "cell_type": "markdown",
   "id": "36119311",
   "metadata": {},
   "source": [
    "### Observations :\n",
    "- Le fichier ne contient pas de valeurs manquantes.\n",
    "- Le fichier contenait 126 doublons.\n",
    "- Les variables *'client_id*  et *'id_prod'* du fichier transactions sont des clés étrangères vers les fichiers customers et products.\n",
    "- On notera que pour les clés du fichier transactions, il y a moins de valeurs uniques que dans les autres jeux de données :21 clients enregistrés n'ont pas passé commande, et 21 produits n'ont pas été vendus.\n",
    "- Pour le fichier transactions, il existe 2 produits présents uniquement dans celui-ci : 0_2245 et T_0 pour un total de 295 occurrences. De plus, il existe 3 clients présents uniquement dans le fichier transactions : c_577, c_5302, c_8362 pour un total de 201 occurrences.\n",
    "- Le fichier ne semble pas contenir de valeurs aberrantes, mais il va nous falloir modifier le format des dates pour les exploiter. A priori, la fonction .describe() montre qu'il existe plus de dates que de sessions uniques. Il se pourrait qu'une même session puisse contenir plusieurs dates de transactions."
   ]
  },
  {
   "cell_type": "code",
   "execution_count": 33,
   "id": "245e9a72",
   "metadata": {},
   "outputs": [
    {
     "data": {
      "text/html": [
       "<div>\n",
       "<style scoped>\n",
       "    .dataframe tbody tr th:only-of-type {\n",
       "        vertical-align: middle;\n",
       "    }\n",
       "\n",
       "    .dataframe tbody tr th {\n",
       "        vertical-align: top;\n",
       "    }\n",
       "\n",
       "    .dataframe thead th {\n",
       "        text-align: right;\n",
       "    }\n",
       "</style>\n",
       "<table border=\"1\" class=\"dataframe\">\n",
       "  <thead>\n",
       "    <tr style=\"text-align: right;\">\n",
       "      <th></th>\n",
       "      <th>id_prod</th>\n",
       "      <th>date</th>\n",
       "      <th>session_id</th>\n",
       "      <th>client_id</th>\n",
       "    </tr>\n",
       "  </thead>\n",
       "  <tbody>\n",
       "    <tr>\n",
       "      <th>3019</th>\n",
       "      <td>T_0</td>\n",
       "      <td>test_2021-03-01 02:30:02.237419</td>\n",
       "      <td>s_0</td>\n",
       "      <td>ct_0</td>\n",
       "    </tr>\n",
       "    <tr>\n",
       "      <th>5138</th>\n",
       "      <td>T_0</td>\n",
       "      <td>test_2021-03-01 02:30:02.237425</td>\n",
       "      <td>s_0</td>\n",
       "      <td>ct_0</td>\n",
       "    </tr>\n",
       "    <tr>\n",
       "      <th>9668</th>\n",
       "      <td>T_0</td>\n",
       "      <td>test_2021-03-01 02:30:02.237437</td>\n",
       "      <td>s_0</td>\n",
       "      <td>ct_1</td>\n",
       "    </tr>\n",
       "    <tr>\n",
       "      <th>10728</th>\n",
       "      <td>T_0</td>\n",
       "      <td>test_2021-03-01 02:30:02.237436</td>\n",
       "      <td>s_0</td>\n",
       "      <td>ct_0</td>\n",
       "    </tr>\n",
       "    <tr>\n",
       "      <th>15292</th>\n",
       "      <td>T_0</td>\n",
       "      <td>test_2021-03-01 02:30:02.237430</td>\n",
       "      <td>s_0</td>\n",
       "      <td>ct_0</td>\n",
       "    </tr>\n",
       "    <tr>\n",
       "      <th>...</th>\n",
       "      <td>...</td>\n",
       "      <td>...</td>\n",
       "      <td>...</td>\n",
       "      <td>...</td>\n",
       "    </tr>\n",
       "    <tr>\n",
       "      <th>577324</th>\n",
       "      <td>T_0</td>\n",
       "      <td>test_2021-03-01 02:30:02.237424</td>\n",
       "      <td>s_0</td>\n",
       "      <td>ct_0</td>\n",
       "    </tr>\n",
       "    <tr>\n",
       "      <th>593065</th>\n",
       "      <td>T_0</td>\n",
       "      <td>test_2021-03-01 02:30:02.237422</td>\n",
       "      <td>s_0</td>\n",
       "      <td>ct_1</td>\n",
       "    </tr>\n",
       "    <tr>\n",
       "      <th>607892</th>\n",
       "      <td>T_0</td>\n",
       "      <td>test_2021-03-01 02:30:02.237412</td>\n",
       "      <td>s_0</td>\n",
       "      <td>ct_0</td>\n",
       "    </tr>\n",
       "    <tr>\n",
       "      <th>626049</th>\n",
       "      <td>T_0</td>\n",
       "      <td>test_2021-03-01 02:30:02.237422</td>\n",
       "      <td>s_0</td>\n",
       "      <td>ct_0</td>\n",
       "    </tr>\n",
       "    <tr>\n",
       "      <th>670680</th>\n",
       "      <td>T_0</td>\n",
       "      <td>test_2021-03-01 02:30:02.237449</td>\n",
       "      <td>s_0</td>\n",
       "      <td>ct_1</td>\n",
       "    </tr>\n",
       "  </tbody>\n",
       "</table>\n",
       "<p>74 rows × 4 columns</p>\n",
       "</div>"
      ],
      "text/plain": [
       "       id_prod                             date session_id client_id\n",
       "3019       T_0  test_2021-03-01 02:30:02.237419        s_0      ct_0\n",
       "5138       T_0  test_2021-03-01 02:30:02.237425        s_0      ct_0\n",
       "9668       T_0  test_2021-03-01 02:30:02.237437        s_0      ct_1\n",
       "10728      T_0  test_2021-03-01 02:30:02.237436        s_0      ct_0\n",
       "15292      T_0  test_2021-03-01 02:30:02.237430        s_0      ct_0\n",
       "...        ...                              ...        ...       ...\n",
       "577324     T_0  test_2021-03-01 02:30:02.237424        s_0      ct_0\n",
       "593065     T_0  test_2021-03-01 02:30:02.237422        s_0      ct_1\n",
       "607892     T_0  test_2021-03-01 02:30:02.237412        s_0      ct_0\n",
       "626049     T_0  test_2021-03-01 02:30:02.237422        s_0      ct_0\n",
       "670680     T_0  test_2021-03-01 02:30:02.237449        s_0      ct_1\n",
       "\n",
       "[74 rows x 4 columns]"
      ]
     },
     "metadata": {},
     "output_type": "display_data"
    }
   ],
   "source": [
    "# recherche de l'identifiant 'T_0' mentionné ci-dessus\n",
    "display(df_transactions.loc[df_transactions['id_prod'] == \"T_0\"])"
   ]
  },
  {
   "cell_type": "code",
   "execution_count": 34,
   "id": "c6c27dcf",
   "metadata": {},
   "outputs": [],
   "source": [
    "# supressions des lignes relatives à 'T_0'\n",
    "df_transactions = df_transactions[df_transactions['id_prod'] != \"T_0\"]"
   ]
  },
  {
   "cell_type": "code",
   "execution_count": 35,
   "id": "86cc22b5",
   "metadata": {},
   "outputs": [
    {
     "name": "stdout",
     "output_type": "stream",
     "text": [
      "(array([], dtype=int64),)\n"
     ]
    }
   ],
   "source": [
    "# vérification s'il existe encore des lignes de test 'T_0'\n",
    "print(np.where(df_transactions['id_prod'] == \"T_0\"))"
   ]
  },
  {
   "cell_type": "code",
   "execution_count": 36,
   "id": "e7774cdb",
   "metadata": {},
   "outputs": [
    {
     "data": {
      "text/html": [
       "<div>\n",
       "<style scoped>\n",
       "    .dataframe tbody tr th:only-of-type {\n",
       "        vertical-align: middle;\n",
       "    }\n",
       "\n",
       "    .dataframe tbody tr th {\n",
       "        vertical-align: top;\n",
       "    }\n",
       "\n",
       "    .dataframe thead th {\n",
       "        text-align: right;\n",
       "    }\n",
       "</style>\n",
       "<table border=\"1\" class=\"dataframe\">\n",
       "  <thead>\n",
       "    <tr style=\"text-align: right;\">\n",
       "      <th></th>\n",
       "      <th>id_prod</th>\n",
       "      <th>session_id</th>\n",
       "      <th>client_id</th>\n",
       "      <th>Date</th>\n",
       "      <th>years_month_day</th>\n",
       "      <th>Year</th>\n",
       "    </tr>\n",
       "  </thead>\n",
       "  <tbody>\n",
       "    <tr>\n",
       "      <th>0</th>\n",
       "      <td>0_1518</td>\n",
       "      <td>s_211425</td>\n",
       "      <td>c_103</td>\n",
       "      <td>2022-05-20 13:21:29</td>\n",
       "      <td>2022-05-20</td>\n",
       "      <td>2022</td>\n",
       "    </tr>\n",
       "    <tr>\n",
       "      <th>1</th>\n",
       "      <td>1_251</td>\n",
       "      <td>s_158752</td>\n",
       "      <td>c_8534</td>\n",
       "      <td>2022-02-02 07:55:19</td>\n",
       "      <td>2022-02-02</td>\n",
       "      <td>2022</td>\n",
       "    </tr>\n",
       "    <tr>\n",
       "      <th>2</th>\n",
       "      <td>0_1277</td>\n",
       "      <td>s_225667</td>\n",
       "      <td>c_6714</td>\n",
       "      <td>2022-06-18 15:44:33</td>\n",
       "      <td>2022-06-18</td>\n",
       "      <td>2022</td>\n",
       "    </tr>\n",
       "    <tr>\n",
       "      <th>3</th>\n",
       "      <td>2_209</td>\n",
       "      <td>s_52962</td>\n",
       "      <td>c_6941</td>\n",
       "      <td>2021-06-24 04:19:29</td>\n",
       "      <td>2021-06-24</td>\n",
       "      <td>2021</td>\n",
       "    </tr>\n",
       "    <tr>\n",
       "      <th>4</th>\n",
       "      <td>0_1509</td>\n",
       "      <td>s_325227</td>\n",
       "      <td>c_4232</td>\n",
       "      <td>2023-01-11 08:22:08</td>\n",
       "      <td>2023-01-11</td>\n",
       "      <td>2023</td>\n",
       "    </tr>\n",
       "  </tbody>\n",
       "</table>\n",
       "</div>"
      ],
      "text/plain": [
       "  id_prod session_id client_id                 Date years_month_day  Year\n",
       "0  0_1518   s_211425     c_103  2022-05-20 13:21:29      2022-05-20  2022\n",
       "1   1_251   s_158752    c_8534  2022-02-02 07:55:19      2022-02-02  2022\n",
       "2  0_1277   s_225667    c_6714  2022-06-18 15:44:33      2022-06-18  2022\n",
       "3   2_209    s_52962    c_6941  2021-06-24 04:19:29      2021-06-24  2021\n",
       "4  0_1509   s_325227    c_4232  2023-01-11 08:22:08      2023-01-11  2023"
      ]
     },
     "metadata": {},
     "output_type": "display_data"
    }
   ],
   "source": [
    "# Modification de la date\n",
    "# On garde la date originale au cas où l'on est besoin d'étudier les périodes d'achat\n",
    "df_transactions['date'].str.split('.')\n",
    "df_transactions[['Date','Date2']] = df_transactions['date'].str.split('.', expand=True) \n",
    "df_transactions[['years_month_day','Hour']] = df_transactions['date'].str.split(\" \", expand=True) \n",
    "df_transactions[['Year','Month', 'Day']] = df_transactions['years_month_day'].str.split('-', expand=True)\n",
    "df_transactions.drop(columns = ['date','Date2', 'Hour', 'Month', 'Day'], inplace = True)\n",
    "\n",
    "display(df_transactions.head(5))"
   ]
  },
  {
   "cell_type": "code",
   "execution_count": 96,
   "id": "dd3c698c",
   "metadata": {},
   "outputs": [
    {
     "data": {
      "image/png": "[encoded data removed]",
      "text/plain": [
       "<Figure size 720x360 with 1 Axes>"
      ]
     },
     "metadata": {},
     "output_type": "display_data"
    }
   ],
   "source": [
    "# Information sur les catégories\n",
    "Year = df_transactions['Year'].value_counts().reindex(['2021', '2022', '2023'])\n",
    "\n",
    "fig = plt.figure(figsize = (10, 5))\n",
    "\n",
    "# suppression de l'arrière plan\n",
    "fig.patch.set_visible(False)\n",
    "ax = plt.axes()\n",
    "ax.patch.set_visible(False)\n",
    "\n",
    "# supression du cadre\n",
    "ax.spines['right'].set_visible(False)\n",
    "ax.spines['top'].set_visible(False)\n",
    "ax.spines['left'].set_color('black')\n",
    "ax.spines['bottom'].set_color('black')\n",
    "\n",
    "# titre du graphique\n",
    "plt.title(\"VOLUME DES CLIENTS PAR ANNEES\",weight='bold', size=20)\n",
    " \n",
    "# titre des axes\n",
    "plt.xlabel(\"Années\", fontsize=15)\n",
    "plt.ylabel(\"Volumes de clients\", fontsize=15)\n",
    "\n",
    "# Parametre des axes\n",
    "plt.tick_params(axis='x', labelsize=15)\n",
    "plt.tick_params(axis='y', labelsize=15)\n",
    "\n",
    "# Création du graphique\n",
    "Year.plot.bar(color='lightcoral')\n",
    "plt.xticks(rotation='horizontal')\n",
    "plt.show()"
   ]
  },
  {
   "cell_type": "code",
   "execution_count": 38,
   "id": "890d1937",
   "metadata": {},
   "outputs": [
    {
     "data": {
      "text/html": [
       "<div>\n",
       "<style scoped>\n",
       "    .dataframe tbody tr th:only-of-type {\n",
       "        vertical-align: middle;\n",
       "    }\n",
       "\n",
       "    .dataframe tbody tr th {\n",
       "        vertical-align: top;\n",
       "    }\n",
       "\n",
       "    .dataframe thead th {\n",
       "        text-align: right;\n",
       "    }\n",
       "</style>\n",
       "<table border=\"1\" class=\"dataframe\">\n",
       "  <thead>\n",
       "    <tr style=\"text-align: right;\">\n",
       "      <th></th>\n",
       "      <th>id_prod</th>\n",
       "      <th>session_id</th>\n",
       "      <th>client_id</th>\n",
       "      <th>Date</th>\n",
       "      <th>years_month_day</th>\n",
       "      <th>Year</th>\n",
       "      <th>month_year</th>\n",
       "    </tr>\n",
       "  </thead>\n",
       "  <tbody>\n",
       "    <tr>\n",
       "      <th>0</th>\n",
       "      <td>0_1518</td>\n",
       "      <td>s_211425</td>\n",
       "      <td>c_103</td>\n",
       "      <td>2022-05-20 13:21:29</td>\n",
       "      <td>2022-05-20</td>\n",
       "      <td>2022</td>\n",
       "      <td>2022-05</td>\n",
       "    </tr>\n",
       "    <tr>\n",
       "      <th>1</th>\n",
       "      <td>1_251</td>\n",
       "      <td>s_158752</td>\n",
       "      <td>c_8534</td>\n",
       "      <td>2022-02-02 07:55:19</td>\n",
       "      <td>2022-02-02</td>\n",
       "      <td>2022</td>\n",
       "      <td>2022-02</td>\n",
       "    </tr>\n",
       "    <tr>\n",
       "      <th>2</th>\n",
       "      <td>0_1277</td>\n",
       "      <td>s_225667</td>\n",
       "      <td>c_6714</td>\n",
       "      <td>2022-06-18 15:44:33</td>\n",
       "      <td>2022-06-18</td>\n",
       "      <td>2022</td>\n",
       "      <td>2022-06</td>\n",
       "    </tr>\n",
       "    <tr>\n",
       "      <th>3</th>\n",
       "      <td>2_209</td>\n",
       "      <td>s_52962</td>\n",
       "      <td>c_6941</td>\n",
       "      <td>2021-06-24 04:19:29</td>\n",
       "      <td>2021-06-24</td>\n",
       "      <td>2021</td>\n",
       "      <td>2021-06</td>\n",
       "    </tr>\n",
       "    <tr>\n",
       "      <th>4</th>\n",
       "      <td>0_1509</td>\n",
       "      <td>s_325227</td>\n",
       "      <td>c_4232</td>\n",
       "      <td>2023-01-11 08:22:08</td>\n",
       "      <td>2023-01-11</td>\n",
       "      <td>2023</td>\n",
       "      <td>2023-01</td>\n",
       "    </tr>\n",
       "  </tbody>\n",
       "</table>\n",
       "</div>"
      ],
      "text/plain": [
       "  id_prod session_id client_id                 Date years_month_day  Year  \\\n",
       "0  0_1518   s_211425     c_103  2022-05-20 13:21:29      2022-05-20  2022   \n",
       "1   1_251   s_158752    c_8534  2022-02-02 07:55:19      2022-02-02  2022   \n",
       "2  0_1277   s_225667    c_6714  2022-06-18 15:44:33      2022-06-18  2022   \n",
       "3   2_209    s_52962    c_6941  2021-06-24 04:19:29      2021-06-24  2021   \n",
       "4  0_1509   s_325227    c_4232  2023-01-11 08:22:08      2023-01-11  2023   \n",
       "\n",
       "  month_year  \n",
       "0    2022-05  \n",
       "1    2022-02  \n",
       "2    2022-06  \n",
       "3    2021-06  \n",
       "4    2023-01  "
      ]
     },
     "metadata": {},
     "output_type": "display_data"
    },
    {
     "data": {
      "text/html": [
       "<div>\n",
       "<style scoped>\n",
       "    .dataframe tbody tr th:only-of-type {\n",
       "        vertical-align: middle;\n",
       "    }\n",
       "\n",
       "    .dataframe tbody tr th {\n",
       "        vertical-align: top;\n",
       "    }\n",
       "\n",
       "    .dataframe thead th {\n",
       "        text-align: right;\n",
       "    }\n",
       "</style>\n",
       "<table border=\"1\" class=\"dataframe\">\n",
       "  <thead>\n",
       "    <tr style=\"text-align: right;\">\n",
       "      <th></th>\n",
       "      <th>Month</th>\n",
       "      <th>counts_id</th>\n",
       "    </tr>\n",
       "  </thead>\n",
       "  <tbody>\n",
       "    <tr>\n",
       "      <th>0</th>\n",
       "      <td>2021-03</td>\n",
       "      <td>28610</td>\n",
       "    </tr>\n",
       "    <tr>\n",
       "      <th>1</th>\n",
       "      <td>2021-04</td>\n",
       "      <td>28457</td>\n",
       "    </tr>\n",
       "    <tr>\n",
       "      <th>2</th>\n",
       "      <td>2021-05</td>\n",
       "      <td>28293</td>\n",
       "    </tr>\n",
       "    <tr>\n",
       "      <th>3</th>\n",
       "      <td>2021-06</td>\n",
       "      <td>26857</td>\n",
       "    </tr>\n",
       "    <tr>\n",
       "      <th>4</th>\n",
       "      <td>2021-07</td>\n",
       "      <td>24742</td>\n",
       "    </tr>\n",
       "  </tbody>\n",
       "</table>\n",
       "</div>"
      ],
      "text/plain": [
       "     Month  counts_id\n",
       "0  2021-03      28610\n",
       "1  2021-04      28457\n",
       "2  2021-05      28293\n",
       "3  2021-06      26857\n",
       "4  2021-07      24742"
      ]
     },
     "metadata": {},
     "output_type": "display_data"
    }
   ],
   "source": [
    "# création d'un DF représentant lle volume de clients par an\n",
    "df_transactions ['month_year'] = pd.to_datetime(df_transactions['Date']).dt.to_period('M')\n",
    "display(df_transactions.head())\n",
    "by_month = pd.to_datetime(df_transactions['Date']).dt.to_period('M').value_counts().sort_index()\n",
    "by_month.index = pd.PeriodIndex(by_month.index)\n",
    "df_month = by_month.rename_axis('Month').reset_index(name='counts_id')\n",
    "\n",
    "display(df_month.head())"
   ]
  },
  {
   "cell_type": "code",
   "execution_count": 106,
   "id": "37c77166",
   "metadata": {},
   "outputs": [
    {
     "data": {
      "application/vnd.plotly.v1+json": {
       "config": {
        "plotlyServerURL": "https://plot.ly"
       },
       "data": [
        {
         "marker": {
          "color": "lightcoral"
         },
         "text": "counts_id",
         "type": "scatter",
         "x": [
          "2021-03",
          "2021-04",
          "2021-05",
          "2021-06",
          "2021-07",
          "2021-08",
          "2021-09",
          "2021-10",
          "2021-11",
          "2021-12",
          "2022-01",
          "2022-02",
          "2022-03",
          "2022-04",
          "2022-05",
          "2022-06",
          "2022-07",
          "2022-08",
          "2022-09",
          "2022-10",
          "2022-11",
          "2022-12",
          "2023-01",
          "2023-02"
         ],
         "y": [
          28610,
          28457,
          28293,
          26857,
          24742,
          25659,
          33326,
          21606,
          28321,
          32464,
          29348,
          29605,
          29707,
          27616,
          29991,
          28511,
          28682,
          28552,
          28315,
          28974,
          28574,
          28625,
          28945,
          25552
         ]
        }
       ],
       "layout": {
        "showlegend": false,
        "template": {
         "data": {
          "bar": [
           {
            "error_x": {
             "color": "#2a3f5f"
            },
            "error_y": {
             "color": "#2a3f5f"
            },
            "marker": {
             "line": {
              "color": "#E5ECF6",
              "width": 0.5
             },
             "pattern": {
              "fillmode": "overlay",
              "size": 10,
              "solidity": 0.2
             }
            },
            "type": "bar"
           }
          ],
          "barpolar": [
           {
            "marker": {
             "line": {
              "color": "#E5ECF6",
              "width": 0.5
             },
             "pattern": {
              "fillmode": "overlay",
              "size": 10,
              "solidity": 0.2
             }
            },
            "type": "barpolar"
           }
          ],
          "carpet": [
           {
            "aaxis": {
             "endlinecolor": "#2a3f5f",
             "gridcolor": "white",
             "linecolor": "white",
             "minorgridcolor": "white",
             "startlinecolor": "#2a3f5f"
            },
            "baxis": {
             "endlinecolor": "#2a3f5f",
             "gridcolor": "white",
             "linecolor": "white",
             "minorgridcolor": "white",
             "startlinecolor": "#2a3f5f"
            },
            "type": "carpet"
           }
          ],
          "choropleth": [
           {
            "colorbar": {
             "outlinewidth": 0,
             "ticks": ""
            },
            "type": "choropleth"
           }
          ],
          "contour": [
           {
            "colorbar": {
             "outlinewidth": 0,
             "ticks": ""
            },
            "colorscale": [
             [
              0,
              "#0d0887"
             ],
             [
              0.1111111111111111,
              "#46039f"
             ],
             [
              0.2222222222222222,
              "#7201a8"
             ],
             [
              0.3333333333333333,
              "#9c179e"
             ],
             [
              0.4444444444444444,
              "#bd3786"
             ],
             [
              0.5555555555555556,
              "#d8576b"
             ],
             [
              0.6666666666666666,
              "#ed7953"
             ],
             [
              0.7777777777777778,
              "#fb9f3a"
             ],
             [
              0.8888888888888888,
              "#fdca26"
             ],
             [
              1,
              "#f0f921"
             ]
            ],
            "type": "contour"
           }
          ],
          "contourcarpet": [
           {
            "colorbar": {
             "outlinewidth": 0,
             "ticks": ""
            },
            "type": "contourcarpet"
           }
          ],
          "heatmap": [
           {
            "colorbar": {
             "outlinewidth": 0,
             "ticks": ""
            },
            "colorscale": [
             [
              0,
              "#0d0887"
             ],
             [
              0.1111111111111111,
              "#46039f"
             ],
             [
              0.2222222222222222,
              "#7201a8"
             ],
             [
              0.3333333333333333,
              "#9c179e"
             ],
             [
              0.4444444444444444,
              "#bd3786"
             ],
             [
              0.5555555555555556,
              "#d8576b"
             ],
             [
              0.6666666666666666,
              "#ed7953"
             ],
             [
              0.7777777777777778,
              "#fb9f3a"
             ],
             [
              0.8888888888888888,
              "#fdca26"
             ],
             [
              1,
              "#f0f921"
             ]
            ],
            "type": "heatmap"
           }
          ],
          "heatmapgl": [
           {
            "colorbar": {
             "outlinewidth": 0,
             "ticks": ""
            },
            "colorscale": [
             [
              0,
              "#0d0887"
             ],
             [
              0.1111111111111111,
              "#46039f"
             ],
             [
              0.2222222222222222,
              "#7201a8"
             ],
             [
              0.3333333333333333,
              "#9c179e"
             ],
             [
              0.4444444444444444,
              "#bd3786"
             ],
             [
              0.5555555555555556,
              "#d8576b"
             ],
             [
              0.6666666666666666,
              "#ed7953"
             ],
             [
              0.7777777777777778,
              "#fb9f3a"
             ],
             [
              0.8888888888888888,
              "#fdca26"
             ],
             [
              1,
              "#f0f921"
             ]
            ],
            "type": "heatmapgl"
           }
          ],
          "histogram": [
           {
            "marker": {
             "pattern": {
              "fillmode": "overlay",
              "size": 10,
              "solidity": 0.2
             }
            },
            "type": "histogram"
           }
          ],
          "histogram2d": [
           {
            "colorbar": {
             "outlinewidth": 0,
             "ticks": ""
            },
            "colorscale": [
             [
              0,
              "#0d0887"
             ],
             [
              0.1111111111111111,
              "#46039f"
             ],
             [
              0.2222222222222222,
              "#7201a8"
             ],
             [
              0.3333333333333333,
              "#9c179e"
             ],
             [
              0.4444444444444444,
              "#bd3786"
             ],
             [
              0.5555555555555556,
              "#d8576b"
             ],
             [
              0.6666666666666666,
              "#ed7953"
             ],
             [
              0.7777777777777778,
              "#fb9f3a"
             ],
             [
              0.8888888888888888,
              "#fdca26"
             ],
             [
              1,
              "#f0f921"
             ]
            ],
            "type": "histogram2d"
           }
          ],
          "histogram2dcontour": [
           {
            "colorbar": {
             "outlinewidth": 0,
             "ticks": ""
            },
            "colorscale": [
             [
              0,
              "#0d0887"
             ],
             [
              0.1111111111111111,
              "#46039f"
             ],
             [
              0.2222222222222222,
              "#7201a8"
             ],
             [
              0.3333333333333333,
              "#9c179e"
             ],
             [
              0.4444444444444444,
              "#bd3786"
             ],
             [
              0.5555555555555556,
              "#d8576b"
             ],
             [
              0.6666666666666666,
              "#ed7953"
             ],
             [
              0.7777777777777778,
              "#fb9f3a"
             ],
             [
              0.8888888888888888,
              "#fdca26"
             ],
             [
              1,
              "#f0f921"
             ]
            ],
            "type": "histogram2dcontour"
           }
          ],
          "mesh3d": [
           {
            "colorbar": {
             "outlinewidth": 0,
             "ticks": ""
            },
            "type": "mesh3d"
           }
          ],
          "parcoords": [
           {
            "line": {
             "colorbar": {
              "outlinewidth": 0,
              "ticks": ""
             }
            },
            "type": "parcoords"
           }
          ],
          "pie": [
           {
            "automargin": true,
            "type": "pie"
           }
          ],
          "scatter": [
           {
            "marker": {
             "colorbar": {
              "outlinewidth": 0,
              "ticks": ""
             }
            },
            "type": "scatter"
           }
          ],
          "scatter3d": [
           {
            "line": {
             "colorbar": {
              "outlinewidth": 0,
              "ticks": ""
             }
            },
            "marker": {
             "colorbar": {
              "outlinewidth": 0,
              "ticks": ""
             }
            },
            "type": "scatter3d"
           }
          ],
          "scattercarpet": [
           {
            "marker": {
             "colorbar": {
              "outlinewidth": 0,
              "ticks": ""
             }
            },
            "type": "scattercarpet"
           }
          ],
          "scattergeo": [
           {
            "marker": {
             "colorbar": {
              "outlinewidth": 0,
              "ticks": ""
             }
            },
            "type": "scattergeo"
           }
          ],
          "scattergl": [
           {
            "marker": {
             "colorbar": {
              "outlinewidth": 0,
              "ticks": ""
             }
            },
            "type": "scattergl"
           }
          ],
          "scattermapbox": [
           {
            "marker": {
             "colorbar": {
              "outlinewidth": 0,
              "ticks": ""
             }
            },
            "type": "scattermapbox"
           }
          ],
          "scatterpolar": [
           {
            "marker": {
             "colorbar": {
              "outlinewidth": 0,
              "ticks": ""
             }
            },
            "type": "scatterpolar"
           }
          ],
          "scatterpolargl": [
           {
            "marker": {
             "colorbar": {
              "outlinewidth": 0,
              "ticks": ""
             }
            },
            "type": "scatterpolargl"
           }
          ],
          "scatterternary": [
           {
            "marker": {
             "colorbar": {
              "outlinewidth": 0,
              "ticks": ""
             }
            },
            "type": "scatterternary"
           }
          ],
          "surface": [
           {
            "colorbar": {
             "outlinewidth": 0,
             "ticks": ""
            },
            "colorscale": [
             [
              0,
              "#0d0887"
             ],
             [
              0.1111111111111111,
              "#46039f"
             ],
             [
              0.2222222222222222,
              "#7201a8"
             ],
             [
              0.3333333333333333,
              "#9c179e"
             ],
             [
              0.4444444444444444,
              "#bd3786"
             ],
             [
              0.5555555555555556,
              "#d8576b"
             ],
             [
              0.6666666666666666,
              "#ed7953"
             ],
             [
              0.7777777777777778,
              "#fb9f3a"
             ],
             [
              0.8888888888888888,
              "#fdca26"
             ],
             [
              1,
              "#f0f921"
             ]
            ],
            "type": "surface"
           }
          ],
          "table": [
           {
            "cells": {
             "fill": {
              "color": "#EBF0F8"
             },
             "line": {
              "color": "white"
             }
            },
            "header": {
             "fill": {
              "color": "#C8D4E3"
             },
             "line": {
              "color": "white"
             }
            },
            "type": "table"
           }
          ]
         },
         "layout": {
          "annotationdefaults": {
           "arrowcolor": "#2a3f5f",
           "arrowhead": 0,
           "arrowwidth": 1
          },
          "autotypenumbers": "strict",
          "coloraxis": {
           "colorbar": {
            "outlinewidth": 0,
            "ticks": ""
           }
          },
          "colorscale": {
           "diverging": [
            [
             0,
             "#8e0152"
            ],
            [
             0.1,
             "#c51b7d"
            ],
            [
             0.2,
             "#de77ae"
            ],
            [
             0.3,
             "#f1b6da"
            ],
            [
             0.4,
             "#fde0ef"
            ],
            [
             0.5,
             "#f7f7f7"
            ],
            [
             0.6,
             "#e6f5d0"
            ],
            [
             0.7,
             "#b8e186"
            ],
            [
             0.8,
             "#7fbc41"
            ],
            [
             0.9,
             "#4d9221"
            ],
            [
             1,
             "#276419"
            ]
           ],
           "sequential": [
            [
             0,
             "#0d0887"
            ],
            [
             0.1111111111111111,
             "#46039f"
            ],
            [
             0.2222222222222222,
             "#7201a8"
            ],
            [
             0.3333333333333333,
             "#9c179e"
            ],
            [
             0.4444444444444444,
             "#bd3786"
            ],
            [
             0.5555555555555556,
             "#d8576b"
            ],
            [
             0.6666666666666666,
             "#ed7953"
            ],
            [
             0.7777777777777778,
             "#fb9f3a"
            ],
            [
             0.8888888888888888,
             "#fdca26"
            ],
            [
             1,
             "#f0f921"
            ]
           ],
           "sequentialminus": [
            [
             0,
             "#0d0887"
            ],
            [
             0.1111111111111111,
             "#46039f"
            ],
            [
             0.2222222222222222,
             "#7201a8"
            ],
            [
             0.3333333333333333,
             "#9c179e"
            ],
            [
             0.4444444444444444,
             "#bd3786"
            ],
            [
             0.5555555555555556,
             "#d8576b"
            ],
            [
             0.6666666666666666,
             "#ed7953"
            ],
            [
             0.7777777777777778,
             "#fb9f3a"
            ],
            [
             0.8888888888888888,
             "#fdca26"
            ],
            [
             1,
             "#f0f921"
            ]
           ]
          },
          "colorway": [
           "#636efa",
           "#EF553B",
           "#00cc96",
           "#ab63fa",
           "#FFA15A",
           "#19d3f3",
           "#FF6692",
           "#B6E880",
           "#FF97FF",
           "#FECB52"
          ],
          "font": {
           "color": "#2a3f5f"
          },
          "geo": {
           "bgcolor": "white",
           "lakecolor": "white",
           "landcolor": "#E5ECF6",
           "showlakes": true,
           "showland": true,
           "subunitcolor": "white"
          },
          "hoverlabel": {
           "align": "left"
          },
          "hovermode": "closest",
          "mapbox": {
           "style": "light"
          },
          "paper_bgcolor": "white",
          "plot_bgcolor": "#E5ECF6",
          "polar": {
           "angularaxis": {
            "gridcolor": "white",
            "linecolor": "white",
            "ticks": ""
           },
           "bgcolor": "#E5ECF6",
           "radialaxis": {
            "gridcolor": "white",
            "linecolor": "white",
            "ticks": ""
           }
          },
          "scene": {
           "xaxis": {
            "backgroundcolor": "#E5ECF6",
            "gridcolor": "white",
            "gridwidth": 2,
            "linecolor": "white",
            "showbackground": true,
            "ticks": "",
            "zerolinecolor": "white"
           },
           "yaxis": {
            "backgroundcolor": "#E5ECF6",
            "gridcolor": "white",
            "gridwidth": 2,
            "linecolor": "white",
            "showbackground": true,
            "ticks": "",
            "zerolinecolor": "white"
           },
           "zaxis": {
            "backgroundcolor": "#E5ECF6",
            "gridcolor": "white",
            "gridwidth": 2,
            "linecolor": "white",
            "showbackground": true,
            "ticks": "",
            "zerolinecolor": "white"
           }
          },
          "shapedefaults": {
           "line": {
            "color": "#2a3f5f"
           }
          },
          "ternary": {
           "aaxis": {
            "gridcolor": "white",
            "linecolor": "white",
            "ticks": ""
           },
           "baxis": {
            "gridcolor": "white",
            "linecolor": "white",
            "ticks": ""
           },
           "bgcolor": "#E5ECF6",
           "caxis": {
            "gridcolor": "white",
            "linecolor": "white",
            "ticks": ""
           }
          },
          "title": {
           "x": 0.05
          },
          "xaxis": {
           "automargin": true,
           "gridcolor": "white",
           "linecolor": "white",
           "ticks": "",
           "title": {
            "standoff": 15
           },
           "zerolinecolor": "white",
           "zerolinewidth": 2
          },
          "yaxis": {
           "automargin": true,
           "gridcolor": "white",
           "linecolor": "white",
           "ticks": "",
           "title": {
            "standoff": 15
           },
           "zerolinecolor": "white",
           "zerolinewidth": 2
          }
         }
        },
        "title": {
         "text": "VOLUME DE CLIENTS MENSUELS"
        },
        "xaxis": {
         "title": {
          "text": "Mois"
         }
        },
        "yaxis": {
         "title": {
          "text": "Volume de clients"
         }
        }
       }
      },
      "text/html": [
       "<div>                            <div id=\"c6d0991c-2672-4bcf-9490-a580617db3bc\" class=\"plotly-graph-div\" style=\"height:525px; width:100%;\"></div>            <script type=\"text/javascript\">                require([\"plotly\"], function(Plotly) {                    window.PLOTLYENV=window.PLOTLYENV || {};                                    if (document.getElementById(\"c6d0991c-2672-4bcf-9490-a580617db3bc\")) {                    Plotly.newPlot(                        \"c6d0991c-2672-4bcf-9490-a580617db3bc\",                        [{\"marker\":{\"color\":\"lightcoral\"},\"text\":\"counts_id\",\"x\":[\"2021-03\",\"2021-04\",\"2021-05\",\"2021-06\",\"2021-07\",\"2021-08\",\"2021-09\",\"2021-10\",\"2021-11\",\"2021-12\",\"2022-01\",\"2022-02\",\"2022-03\",\"2022-04\",\"2022-05\",\"2022-06\",\"2022-07\",\"2022-08\",\"2022-09\",\"2022-10\",\"2022-11\",\"2022-12\",\"2023-01\",\"2023-02\"],\"y\":[28610,28457,28293,26857,24742,25659,33326,21606,28321,32464,29348,29605,29707,27616,29991,28511,28682,28552,28315,28974,28574,28625,28945,25552],\"type\":\"scatter\"}],                        {\"template\":{\"data\":{\"bar\":[{\"error_x\":{\"color\":\"#2a3f5f\"},\"error_y\":{\"color\":\"#2a3f5f\"},\"marker\":{\"line\":{\"color\":\"#E5ECF6\",\"width\":0.5},\"pattern\":{\"fillmode\":\"overlay\",\"size\":10,\"solidity\":0.2}},\"type\":\"bar\"}],\"barpolar\":[{\"marker\":{\"line\":{\"color\":\"#E5ECF6\",\"width\":0.5},\"pattern\":{\"fillmode\":\"overlay\",\"size\":10,\"solidity\":0.2}},\"type\":\"barpolar\"}],\"carpet\":[{\"aaxis\":{\"endlinecolor\":\"#2a3f5f\",\"gridcolor\":\"white\",\"linecolor\":\"white\",\"minorgridcolor\":\"white\",\"startlinecolor\":\"#2a3f5f\"},\"baxis\":{\"endlinecolor\":\"#2a3f5f\",\"gridcolor\":\"white\",\"linecolor\":\"white\",\"minorgridcolor\":\"white\",\"startlinecolor\":\"#2a3f5f\"},\"type\":\"carpet\"}],\"choropleth\":[{\"colorbar\":{\"outlinewidth\":0,\"ticks\":\"\"},\"type\":\"choropleth\"}],\"contour\":[{\"colorbar\":{\"outlinewidth\":0,\"ticks\":\"\"},\"colorscale\":[[0.0,\"#0d0887\"],[0.1111111111111111,\"#46039f\"],[0.2222222222222222,\"#7201a8\"],[0.3333333333333333,\"#9c179e\"],[0.4444444444444444,\"#bd3786\"],[0.5555555555555556,\"#d8576b\"],[0.6666666666666666,\"#ed7953\"],[0.7777777777777778,\"#fb9f3a\"],[0.8888888888888888,\"#fdca26\"],[1.0,\"#f0f921\"]],\"type\":\"contour\"}],\"contourcarpet\":[{\"colorbar\":{\"outlinewidth\":0,\"ticks\":\"\"},\"type\":\"contourcarpet\"}],\"heatmap\":[{\"colorbar\":{\"outlinewidth\":0,\"ticks\":\"\"},\"colorscale\":[[0.0,\"#0d0887\"],[0.1111111111111111,\"#46039f\"],[0.2222222222222222,\"#7201a8\"],[0.3333333333333333,\"#9c179e\"],[0.4444444444444444,\"#bd3786\"],[0.5555555555555556,\"#d8576b\"],[0.6666666666666666,\"#ed7953\"],[0.7777777777777778,\"#fb9f3a\"],[0.8888888888888888,\"#fdca26\"],[1.0,\"#f0f921\"]],\"type\":\"heatmap\"}],\"heatmapgl\":[{\"colorbar\":{\"outlinewidth\":0,\"ticks\":\"\"},\"colorscale\":[[0.0,\"#0d0887\"],[0.1111111111111111,\"#46039f\"],[0.2222222222222222,\"#7201a8\"],[0.3333333333333333,\"#9c179e\"],[0.4444444444444444,\"#bd3786\"],[0.5555555555555556,\"#d8576b\"],[0.6666666666666666,\"#ed7953\"],[0.7777777777777778,\"#fb9f3a\"],[0.8888888888888888,\"#fdca26\"],[1.0,\"#f0f921\"]],\"type\":\"heatmapgl\"}],\"histogram\":[{\"marker\":{\"pattern\":{\"fillmode\":\"overlay\",\"size\":10,\"solidity\":0.2}},\"type\":\"histogram\"}],\"histogram2d\":[{\"colorbar\":{\"outlinewidth\":0,\"ticks\":\"\"},\"colorscale\":[[0.0,\"#0d0887\"],[0.1111111111111111,\"#46039f\"],[0.2222222222222222,\"#7201a8\"],[0.3333333333333333,\"#9c179e\"],[0.4444444444444444,\"#bd3786\"],[0.5555555555555556,\"#d8576b\"],[0.6666666666666666,\"#ed7953\"],[0.7777777777777778,\"#fb9f3a\"],[0.8888888888888888,\"#fdca26\"],[1.0,\"#f0f921\"]],\"type\":\"histogram2d\"}],\"histogram2dcontour\":[{\"colorbar\":{\"outlinewidth\":0,\"ticks\":\"\"},\"colorscale\":[[0.0,\"#0d0887\"],[0.1111111111111111,\"#46039f\"],[0.2222222222222222,\"#7201a8\"],[0.3333333333333333,\"#9c179e\"],[0.4444444444444444,\"#bd3786\"],[0.5555555555555556,\"#d8576b\"],[0.6666666666666666,\"#ed7953\"],[0.7777777777777778,\"#fb9f3a\"],[0.8888888888888888,\"#fdca26\"],[1.0,\"#f0f921\"]],\"type\":\"histogram2dcontour\"}],\"mesh3d\":[{\"colorbar\":{\"outlinewidth\":0,\"ticks\":\"\"},\"type\":\"mesh3d\"}],\"parcoords\":[{\"line\":{\"colorbar\":{\"outlinewidth\":0,\"ticks\":\"\"}},\"type\":\"parcoords\"}],\"pie\":[{\"automargin\":true,\"type\":\"pie\"}],\"scatter\":[{\"marker\":{\"colorbar\":{\"outlinewidth\":0,\"ticks\":\"\"}},\"type\":\"scatter\"}],\"scatter3d\":[{\"line\":{\"colorbar\":{\"outlinewidth\":0,\"ticks\":\"\"}},\"marker\":{\"colorbar\":{\"outlinewidth\":0,\"ticks\":\"\"}},\"type\":\"scatter3d\"}],\"scattercarpet\":[{\"marker\":{\"colorbar\":{\"outlinewidth\":0,\"ticks\":\"\"}},\"type\":\"scattercarpet\"}],\"scattergeo\":[{\"marker\":{\"colorbar\":{\"outlinewidth\":0,\"ticks\":\"\"}},\"type\":\"scattergeo\"}],\"scattergl\":[{\"marker\":{\"colorbar\":{\"outlinewidth\":0,\"ticks\":\"\"}},\"type\":\"scattergl\"}],\"scattermapbox\":[{\"marker\":{\"colorbar\":{\"outlinewidth\":0,\"ticks\":\"\"}},\"type\":\"scattermapbox\"}],\"scatterpolar\":[{\"marker\":{\"colorbar\":{\"outlinewidth\":0,\"ticks\":\"\"}},\"type\":\"scatterpolar\"}],\"scatterpolargl\":[{\"marker\":{\"colorbar\":{\"outlinewidth\":0,\"ticks\":\"\"}},\"type\":\"scatterpolargl\"}],\"scatterternary\":[{\"marker\":{\"colorbar\":{\"outlinewidth\":0,\"ticks\":\"\"}},\"type\":\"scatterternary\"}],\"surface\":[{\"colorbar\":{\"outlinewidth\":0,\"ticks\":\"\"},\"colorscale\":[[0.0,\"#0d0887\"],[0.1111111111111111,\"#46039f\"],[0.2222222222222222,\"#7201a8\"],[0.3333333333333333,\"#9c179e\"],[0.4444444444444444,\"#bd3786\"],[0.5555555555555556,\"#d8576b\"],[0.6666666666666666,\"#ed7953\"],[0.7777777777777778,\"#fb9f3a\"],[0.8888888888888888,\"#fdca26\"],[1.0,\"#f0f921\"]],\"type\":\"surface\"}],\"table\":[{\"cells\":{\"fill\":{\"color\":\"#EBF0F8\"},\"line\":{\"color\":\"white\"}},\"header\":{\"fill\":{\"color\":\"#C8D4E3\"},\"line\":{\"color\":\"white\"}},\"type\":\"table\"}]},\"layout\":{\"annotationdefaults\":{\"arrowcolor\":\"#2a3f5f\",\"arrowhead\":0,\"arrowwidth\":1},\"autotypenumbers\":\"strict\",\"coloraxis\":{\"colorbar\":{\"outlinewidth\":0,\"ticks\":\"\"}},\"colorscale\":{\"diverging\":[[0,\"#8e0152\"],[0.1,\"#c51b7d\"],[0.2,\"#de77ae\"],[0.3,\"#f1b6da\"],[0.4,\"#fde0ef\"],[0.5,\"#f7f7f7\"],[0.6,\"#e6f5d0\"],[0.7,\"#b8e186\"],[0.8,\"#7fbc41\"],[0.9,\"#4d9221\"],[1,\"#276419\"]],\"sequential\":[[0.0,\"#0d0887\"],[0.1111111111111111,\"#46039f\"],[0.2222222222222222,\"#7201a8\"],[0.3333333333333333,\"#9c179e\"],[0.4444444444444444,\"#bd3786\"],[0.5555555555555556,\"#d8576b\"],[0.6666666666666666,\"#ed7953\"],[0.7777777777777778,\"#fb9f3a\"],[0.8888888888888888,\"#fdca26\"],[1.0,\"#f0f921\"]],\"sequentialminus\":[[0.0,\"#0d0887\"],[0.1111111111111111,\"#46039f\"],[0.2222222222222222,\"#7201a8\"],[0.3333333333333333,\"#9c179e\"],[0.4444444444444444,\"#bd3786\"],[0.5555555555555556,\"#d8576b\"],[0.6666666666666666,\"#ed7953\"],[0.7777777777777778,\"#fb9f3a\"],[0.8888888888888888,\"#fdca26\"],[1.0,\"#f0f921\"]]},\"colorway\":[\"#636efa\",\"#EF553B\",\"#00cc96\",\"#ab63fa\",\"#FFA15A\",\"#19d3f3\",\"#FF6692\",\"#B6E880\",\"#FF97FF\",\"#FECB52\"],\"font\":{\"color\":\"#2a3f5f\"},\"geo\":{\"bgcolor\":\"white\",\"lakecolor\":\"white\",\"landcolor\":\"#E5ECF6\",\"showlakes\":true,\"showland\":true,\"subunitcolor\":\"white\"},\"hoverlabel\":{\"align\":\"left\"},\"hovermode\":\"closest\",\"mapbox\":{\"style\":\"light\"},\"paper_bgcolor\":\"white\",\"plot_bgcolor\":\"#E5ECF6\",\"polar\":{\"angularaxis\":{\"gridcolor\":\"white\",\"linecolor\":\"white\",\"ticks\":\"\"},\"bgcolor\":\"#E5ECF6\",\"radialaxis\":{\"gridcolor\":\"white\",\"linecolor\":\"white\",\"ticks\":\"\"}},\"scene\":{\"xaxis\":{\"backgroundcolor\":\"#E5ECF6\",\"gridcolor\":\"white\",\"gridwidth\":2,\"linecolor\":\"white\",\"showbackground\":true,\"ticks\":\"\",\"zerolinecolor\":\"white\"},\"yaxis\":{\"backgroundcolor\":\"#E5ECF6\",\"gridcolor\":\"white\",\"gridwidth\":2,\"linecolor\":\"white\",\"showbackground\":true,\"ticks\":\"\",\"zerolinecolor\":\"white\"},\"zaxis\":{\"backgroundcolor\":\"#E5ECF6\",\"gridcolor\":\"white\",\"gridwidth\":2,\"linecolor\":\"white\",\"showbackground\":true,\"ticks\":\"\",\"zerolinecolor\":\"white\"}},\"shapedefaults\":{\"line\":{\"color\":\"#2a3f5f\"}},\"ternary\":{\"aaxis\":{\"gridcolor\":\"white\",\"linecolor\":\"white\",\"ticks\":\"\"},\"baxis\":{\"gridcolor\":\"white\",\"linecolor\":\"white\",\"ticks\":\"\"},\"bgcolor\":\"#E5ECF6\",\"caxis\":{\"gridcolor\":\"white\",\"linecolor\":\"white\",\"ticks\":\"\"}},\"title\":{\"x\":0.05},\"xaxis\":{\"automargin\":true,\"gridcolor\":\"white\",\"linecolor\":\"white\",\"ticks\":\"\",\"title\":{\"standoff\":15},\"zerolinecolor\":\"white\",\"zerolinewidth\":2},\"yaxis\":{\"automargin\":true,\"gridcolor\":\"white\",\"linecolor\":\"white\",\"ticks\":\"\",\"title\":{\"standoff\":15},\"zerolinecolor\":\"white\",\"zerolinewidth\":2}}},\"title\":{\"text\":\"VOLUME DE CLIENTS MENSUELS\"},\"xaxis\":{\"title\":{\"text\":\"Mois\"}},\"yaxis\":{\"title\":{\"text\":\"Volume de clients\"}},\"showlegend\":false},                        {\"responsive\": true}                    ).then(function(){\n",
       "                            \n",
       "var gd = document.getElementById('c6d0991c-2672-4bcf-9490-a580617db3bc');\n",
       "var x = new MutationObserver(function (mutations, observer) {{\n",
       "        var display = window.getComputedStyle(gd).display;\n",
       "        if (!display || display === 'none') {{\n",
       "            console.log([gd, 'removed!']);\n",
       "            Plotly.purge(gd);\n",
       "            observer.disconnect();\n",
       "        }}\n",
       "}});\n",
       "\n",
       "// Listen for the removal of the full notebook cells\n",
       "var notebookContainer = gd.closest('#notebook-container');\n",
       "if (notebookContainer) {{\n",
       "    x.observe(notebookContainer, {childList: true});\n",
       "}}\n",
       "\n",
       "// Listen for the clearing of the current output cell\n",
       "var outputEl = gd.closest('.output');\n",
       "if (outputEl) {{\n",
       "    x.observe(outputEl, {childList: true});\n",
       "}}\n",
       "\n",
       "                        })                };                });            </script>        </div>"
      ]
     },
     "metadata": {},
     "output_type": "display_data"
    }
   ],
   "source": [
    "# Représentation des volumes de clients\n",
    "fig = go.Figure(data=go.Scatter(x=df_month['Month'].astype(dtype=str), y=df_month['counts_id'], marker_color='lightcoral', text=\"counts_id\"))\n",
    "fig.update_layout({\"title\": \"VOLUME DE CLIENTS MENSUELS\",\n",
    "                   \"xaxis\": {\"title\":\"Mois\"},\n",
    "                   \"yaxis\": {\"title\":\"Volume de clients\"},\n",
    "                   \"showlegend\": False})\n",
    "fig.show()"
   ]
  },
  {
   "cell_type": "code",
   "execution_count": 40,
   "id": "13a22805",
   "metadata": {},
   "outputs": [
    {
     "data": {
      "text/html": [
       "<div>\n",
       "<style scoped>\n",
       "    .dataframe tbody tr th:only-of-type {\n",
       "        vertical-align: middle;\n",
       "    }\n",
       "\n",
       "    .dataframe tbody tr th {\n",
       "        vertical-align: top;\n",
       "    }\n",
       "\n",
       "    .dataframe thead th {\n",
       "        text-align: right;\n",
       "    }\n",
       "</style>\n",
       "<table border=\"1\" class=\"dataframe\">\n",
       "  <thead>\n",
       "    <tr style=\"text-align: right;\">\n",
       "      <th></th>\n",
       "      <th>id_prod</th>\n",
       "      <th>session_id</th>\n",
       "      <th>client_id</th>\n",
       "      <th>Date</th>\n",
       "      <th>years_month_day</th>\n",
       "      <th>Year</th>\n",
       "      <th>month_year</th>\n",
       "    </tr>\n",
       "  </thead>\n",
       "  <tbody>\n",
       "    <tr>\n",
       "      <th>0</th>\n",
       "      <td>0_1518</td>\n",
       "      <td>s_211425</td>\n",
       "      <td>c_103</td>\n",
       "      <td>2022-05-20 13:21:29</td>\n",
       "      <td>2022-05-20</td>\n",
       "      <td>2022</td>\n",
       "      <td>2022-05</td>\n",
       "    </tr>\n",
       "    <tr>\n",
       "      <th>1</th>\n",
       "      <td>1_251</td>\n",
       "      <td>s_158752</td>\n",
       "      <td>c_8534</td>\n",
       "      <td>2022-02-02 07:55:19</td>\n",
       "      <td>2022-02-02</td>\n",
       "      <td>2022</td>\n",
       "      <td>2022-02</td>\n",
       "    </tr>\n",
       "    <tr>\n",
       "      <th>2</th>\n",
       "      <td>0_1277</td>\n",
       "      <td>s_225667</td>\n",
       "      <td>c_6714</td>\n",
       "      <td>2022-06-18 15:44:33</td>\n",
       "      <td>2022-06-18</td>\n",
       "      <td>2022</td>\n",
       "      <td>2022-06</td>\n",
       "    </tr>\n",
       "    <tr>\n",
       "      <th>5</th>\n",
       "      <td>0_1418</td>\n",
       "      <td>s_285425</td>\n",
       "      <td>c_1478</td>\n",
       "      <td>2022-10-20 15:59:16</td>\n",
       "      <td>2022-10-20</td>\n",
       "      <td>2022</td>\n",
       "      <td>2022-10</td>\n",
       "    </tr>\n",
       "    <tr>\n",
       "      <th>6</th>\n",
       "      <td>0_1475</td>\n",
       "      <td>s_218033</td>\n",
       "      <td>c_7782</td>\n",
       "      <td>2022-06-03 04:45:09</td>\n",
       "      <td>2022-06-03</td>\n",
       "      <td>2022</td>\n",
       "      <td>2022-06</td>\n",
       "    </tr>\n",
       "  </tbody>\n",
       "</table>\n",
       "</div>"
      ],
      "text/plain": [
       "  id_prod session_id client_id                 Date years_month_day  Year  \\\n",
       "0  0_1518   s_211425     c_103  2022-05-20 13:21:29      2022-05-20  2022   \n",
       "1   1_251   s_158752    c_8534  2022-02-02 07:55:19      2022-02-02  2022   \n",
       "2  0_1277   s_225667    c_6714  2022-06-18 15:44:33      2022-06-18  2022   \n",
       "5  0_1418   s_285425    c_1478  2022-10-20 15:59:16      2022-10-20  2022   \n",
       "6  0_1475   s_218033    c_7782  2022-06-03 04:45:09      2022-06-03  2022   \n",
       "\n",
       "  month_year  \n",
       "0    2022-05  \n",
       "1    2022-02  \n",
       "2    2022-06  \n",
       "5    2022-10  \n",
       "6    2022-06  "
      ]
     },
     "metadata": {},
     "output_type": "display_data"
    }
   ],
   "source": [
    "# Sélection de l'année 2022 comme référentiel de notre analyse\n",
    "df_transactions_2022 = df_transactions[df_transactions['Year']  == \"2022\"]\n",
    "display(df_transactions_2022.head())"
   ]
  },
  {
   "cell_type": "markdown",
   "id": "c38faf75",
   "metadata": {},
   "source": [
    "### Observations :\n",
    "- La date est présente dans deux formats de données au sein d'une colonne. Nous décidons de modifier la date pour pouvoir l'exploiter. Nous gardons une date au format le plus précis, puis nous la ventilons pour obtenir des colonnes renseignant l'année ou le jour pour de futures analyses. \n",
    "- Nous sélectionnons uniquement l'année 2022 pour l'analyse, car elle semble la plus représentative par rapport aux autres, et cela, pour plusieurs raisons : il s'agit de la seule année entière d'exercice et les données semblent cohérentes (absence d'informations fausses ou contradictoires). Nous aurons donc des informations plus complètes pour l'analyse du profil client, mais également un référentiel pour réitérer ladite analyse.\n",
    "\n",
    "Il ne nous reste plus qu'à créer la jointure entre les différents fichiers."
   ]
  },
  {
   "cell_type": "code",
   "execution_count": 41,
   "id": "6c9784d6",
   "metadata": {},
   "outputs": [
    {
     "data": {
      "text/html": [
       "<div>\n",
       "<style scoped>\n",
       "    .dataframe tbody tr th:only-of-type {\n",
       "        vertical-align: middle;\n",
       "    }\n",
       "\n",
       "    .dataframe tbody tr th {\n",
       "        vertical-align: top;\n",
       "    }\n",
       "\n",
       "    .dataframe thead th {\n",
       "        text-align: right;\n",
       "    }\n",
       "</style>\n",
       "<table border=\"1\" class=\"dataframe\">\n",
       "  <thead>\n",
       "    <tr style=\"text-align: right;\">\n",
       "      <th></th>\n",
       "      <th>id_prod</th>\n",
       "      <th>session_id</th>\n",
       "      <th>client_id</th>\n",
       "      <th>Date</th>\n",
       "      <th>years_month_day</th>\n",
       "      <th>Year</th>\n",
       "      <th>month_year</th>\n",
       "      <th>sex</th>\n",
       "      <th>birth</th>\n",
       "      <th>PERIOD</th>\n",
       "      <th>price</th>\n",
       "      <th>categ</th>\n",
       "    </tr>\n",
       "  </thead>\n",
       "  <tbody>\n",
       "    <tr>\n",
       "      <th>0</th>\n",
       "      <td>0_1518</td>\n",
       "      <td>s_211425</td>\n",
       "      <td>c_103</td>\n",
       "      <td>2022-05-20 13:21:29</td>\n",
       "      <td>2022-05-20</td>\n",
       "      <td>2022</td>\n",
       "      <td>2022-05</td>\n",
       "      <td>f</td>\n",
       "      <td>1986.0</td>\n",
       "      <td>1985 - 1989</td>\n",
       "      <td>4.18</td>\n",
       "      <td>0.0</td>\n",
       "    </tr>\n",
       "    <tr>\n",
       "      <th>1</th>\n",
       "      <td>1_251</td>\n",
       "      <td>s_158752</td>\n",
       "      <td>c_8534</td>\n",
       "      <td>2022-02-02 07:55:19</td>\n",
       "      <td>2022-02-02</td>\n",
       "      <td>2022</td>\n",
       "      <td>2022-02</td>\n",
       "      <td>m</td>\n",
       "      <td>1988.0</td>\n",
       "      <td>1985 - 1989</td>\n",
       "      <td>15.99</td>\n",
       "      <td>1.0</td>\n",
       "    </tr>\n",
       "    <tr>\n",
       "      <th>2</th>\n",
       "      <td>0_1277</td>\n",
       "      <td>s_225667</td>\n",
       "      <td>c_6714</td>\n",
       "      <td>2022-06-18 15:44:33</td>\n",
       "      <td>2022-06-18</td>\n",
       "      <td>2022</td>\n",
       "      <td>2022-06</td>\n",
       "      <td>f</td>\n",
       "      <td>1968.0</td>\n",
       "      <td>1965 - 1969</td>\n",
       "      <td>7.99</td>\n",
       "      <td>0.0</td>\n",
       "    </tr>\n",
       "    <tr>\n",
       "      <th>3</th>\n",
       "      <td>0_1418</td>\n",
       "      <td>s_285425</td>\n",
       "      <td>c_1478</td>\n",
       "      <td>2022-10-20 15:59:16</td>\n",
       "      <td>2022-10-20</td>\n",
       "      <td>2022</td>\n",
       "      <td>2022-10</td>\n",
       "      <td>f</td>\n",
       "      <td>1972.0</td>\n",
       "      <td>1970 - 1974</td>\n",
       "      <td>8.57</td>\n",
       "      <td>0.0</td>\n",
       "    </tr>\n",
       "    <tr>\n",
       "      <th>4</th>\n",
       "      <td>0_1475</td>\n",
       "      <td>s_218033</td>\n",
       "      <td>c_7782</td>\n",
       "      <td>2022-06-03 04:45:09</td>\n",
       "      <td>2022-06-03</td>\n",
       "      <td>2022</td>\n",
       "      <td>2022-06</td>\n",
       "      <td>m</td>\n",
       "      <td>1981.0</td>\n",
       "      <td>1980 - 1984</td>\n",
       "      <td>11.99</td>\n",
       "      <td>0.0</td>\n",
       "    </tr>\n",
       "    <tr>\n",
       "      <th>...</th>\n",
       "      <td>...</td>\n",
       "      <td>...</td>\n",
       "      <td>...</td>\n",
       "      <td>...</td>\n",
       "      <td>...</td>\n",
       "      <td>...</td>\n",
       "      <td>...</td>\n",
       "      <td>...</td>\n",
       "      <td>...</td>\n",
       "      <td>...</td>\n",
       "      <td>...</td>\n",
       "      <td>...</td>\n",
       "    </tr>\n",
       "    <tr>\n",
       "      <th>346495</th>\n",
       "      <td>1_425</td>\n",
       "      <td>s_181088</td>\n",
       "      <td>c_5533</td>\n",
       "      <td>2022-03-18 21:34:28</td>\n",
       "      <td>2022-03-18</td>\n",
       "      <td>2022</td>\n",
       "      <td>2022-03</td>\n",
       "      <td>f</td>\n",
       "      <td>1965.0</td>\n",
       "      <td>1965 - 1969</td>\n",
       "      <td>16.99</td>\n",
       "      <td>1.0</td>\n",
       "    </tr>\n",
       "    <tr>\n",
       "      <th>346496</th>\n",
       "      <td>0_1551</td>\n",
       "      <td>s_150195</td>\n",
       "      <td>c_8489</td>\n",
       "      <td>2022-01-15 13:05:06</td>\n",
       "      <td>2022-01-15</td>\n",
       "      <td>2022</td>\n",
       "      <td>2022-01</td>\n",
       "      <td>f</td>\n",
       "      <td>1951.0</td>\n",
       "      <td>1950 - 1954</td>\n",
       "      <td>12.99</td>\n",
       "      <td>0.0</td>\n",
       "    </tr>\n",
       "    <tr>\n",
       "      <th>346497</th>\n",
       "      <td>1_639</td>\n",
       "      <td>s_181434</td>\n",
       "      <td>c_4370</td>\n",
       "      <td>2022-03-19 16:03:23</td>\n",
       "      <td>2022-03-19</td>\n",
       "      <td>2022</td>\n",
       "      <td>2022-03</td>\n",
       "      <td>f</td>\n",
       "      <td>1977.0</td>\n",
       "      <td>1975 - 1979</td>\n",
       "      <td>10.99</td>\n",
       "      <td>1.0</td>\n",
       "    </tr>\n",
       "    <tr>\n",
       "      <th>346498</th>\n",
       "      <td>0_1425</td>\n",
       "      <td>s_314704</td>\n",
       "      <td>c_304</td>\n",
       "      <td>2022-12-20 04:33:37</td>\n",
       "      <td>2022-12-20</td>\n",
       "      <td>2022</td>\n",
       "      <td>2022-12</td>\n",
       "      <td>f</td>\n",
       "      <td>1988.0</td>\n",
       "      <td>1985 - 1989</td>\n",
       "      <td>12.99</td>\n",
       "      <td>0.0</td>\n",
       "    </tr>\n",
       "    <tr>\n",
       "      <th>346499</th>\n",
       "      <td>1_523</td>\n",
       "      <td>s_274568</td>\n",
       "      <td>c_3873</td>\n",
       "      <td>2022-09-28 01:12:01</td>\n",
       "      <td>2022-09-28</td>\n",
       "      <td>2022</td>\n",
       "      <td>2022-09</td>\n",
       "      <td>m</td>\n",
       "      <td>1995.0</td>\n",
       "      <td>1995 - 1999</td>\n",
       "      <td>23.99</td>\n",
       "      <td>1.0</td>\n",
       "    </tr>\n",
       "  </tbody>\n",
       "</table>\n",
       "<p>346500 rows × 12 columns</p>\n",
       "</div>"
      ],
      "text/plain": [
       "       id_prod session_id client_id                 Date years_month_day  \\\n",
       "0       0_1518   s_211425     c_103  2022-05-20 13:21:29      2022-05-20   \n",
       "1        1_251   s_158752    c_8534  2022-02-02 07:55:19      2022-02-02   \n",
       "2       0_1277   s_225667    c_6714  2022-06-18 15:44:33      2022-06-18   \n",
       "3       0_1418   s_285425    c_1478  2022-10-20 15:59:16      2022-10-20   \n",
       "4       0_1475   s_218033    c_7782  2022-06-03 04:45:09      2022-06-03   \n",
       "...        ...        ...       ...                  ...             ...   \n",
       "346495   1_425   s_181088    c_5533  2022-03-18 21:34:28      2022-03-18   \n",
       "346496  0_1551   s_150195    c_8489  2022-01-15 13:05:06      2022-01-15   \n",
       "346497   1_639   s_181434    c_4370  2022-03-19 16:03:23      2022-03-19   \n",
       "346498  0_1425   s_314704     c_304  2022-12-20 04:33:37      2022-12-20   \n",
       "346499   1_523   s_274568    c_3873  2022-09-28 01:12:01      2022-09-28   \n",
       "\n",
       "        Year month_year sex   birth       PERIOD  price  categ  \n",
       "0       2022    2022-05   f  1986.0  1985 - 1989   4.18    0.0  \n",
       "1       2022    2022-02   m  1988.0  1985 - 1989  15.99    1.0  \n",
       "2       2022    2022-06   f  1968.0  1965 - 1969   7.99    0.0  \n",
       "3       2022    2022-10   f  1972.0  1970 - 1974   8.57    0.0  \n",
       "4       2022    2022-06   m  1981.0  1980 - 1984  11.99    0.0  \n",
       "...      ...        ...  ..     ...          ...    ...    ...  \n",
       "346495  2022    2022-03   f  1965.0  1965 - 1969  16.99    1.0  \n",
       "346496  2022    2022-01   f  1951.0  1950 - 1954  12.99    0.0  \n",
       "346497  2022    2022-03   f  1977.0  1975 - 1979  10.99    1.0  \n",
       "346498  2022    2022-12   f  1988.0  1985 - 1989  12.99    0.0  \n",
       "346499  2022    2022-09   m  1995.0  1995 - 1999  23.99    1.0  \n",
       "\n",
       "[346500 rows x 12 columns]"
      ]
     },
     "metadata": {},
     "output_type": "display_data"
    }
   ],
   "source": [
    "# Fusion des fichiers en un seul fichier unique pour le traitement\n",
    "df_merged= df_transactions_2022.merge(df_customers, how='left', on='client_id').merge(df_products, how='left', on='id_prod')\n",
    "\n",
    "display(df_merged)"
   ]
  },
  {
   "cell_type": "code",
   "execution_count": 42,
   "id": "71bb1a66",
   "metadata": {
    "scrolled": false
   },
   "outputs": [
    {
     "name": "stdout",
     "output_type": "stream",
     "text": [
      "<class 'pandas.core.frame.DataFrame'>\n",
      "Int64Index: 346500 entries, 0 to 346499\n",
      "Data columns (total 12 columns):\n",
      " #   Column           Non-Null Count   Dtype    \n",
      "---  ------           --------------   -----    \n",
      " 0   id_prod          346500 non-null  object   \n",
      " 1   session_id       346500 non-null  object   \n",
      " 2   client_id        346500 non-null  object   \n",
      " 3   Date             346500 non-null  object   \n",
      " 4   years_month_day  346500 non-null  object   \n",
      " 5   Year             346500 non-null  object   \n",
      " 6   month_year       346500 non-null  period[M]\n",
      " 7   sex              346385 non-null  object   \n",
      " 8   birth            346385 non-null  float64  \n",
      " 9   PERIOD           346385 non-null  object   \n",
      " 10  price            346380 non-null  float64  \n",
      " 11  categ            346380 non-null  float64  \n",
      "dtypes: float64(3), object(8), period[M](1)\n",
      "memory usage: 34.4+ MB\n"
     ]
    }
   ],
   "source": [
    "# Détection des valeurs manquantes\n",
    "df_merged.info()"
   ]
  },
  {
   "cell_type": "markdown",
   "id": "fb1ed4b8",
   "metadata": {},
   "source": [
    "Après la jointure, nous observons  certaines colonnes avec des valeurs manquantes. Il doit s'agir des données détectées lors de la comparaison des clés des différents dataframe. Nous allons donc vérifier cela et procéder à une des possibilités suivantes :\n",
    "- Supprimer les lignes concernées;\n",
    "- Déterminer une valeur fixe;\n",
    "- Modéliser cette valeur."
   ]
  },
  {
   "cell_type": "code",
   "execution_count": 43,
   "id": "ab995409",
   "metadata": {
    "scrolled": false
   },
   "outputs": [
    {
     "data": {
      "text/html": [
       "<div>\n",
       "<style scoped>\n",
       "    .dataframe tbody tr th:only-of-type {\n",
       "        vertical-align: middle;\n",
       "    }\n",
       "\n",
       "    .dataframe tbody tr th {\n",
       "        vertical-align: top;\n",
       "    }\n",
       "\n",
       "    .dataframe thead th {\n",
       "        text-align: right;\n",
       "    }\n",
       "</style>\n",
       "<table border=\"1\" class=\"dataframe\">\n",
       "  <thead>\n",
       "    <tr style=\"text-align: right;\">\n",
       "      <th></th>\n",
       "      <th>id_prod</th>\n",
       "      <th>session_id</th>\n",
       "      <th>client_id</th>\n",
       "      <th>Date</th>\n",
       "      <th>years_month_day</th>\n",
       "      <th>Year</th>\n",
       "      <th>month_year</th>\n",
       "      <th>sex</th>\n",
       "      <th>birth</th>\n",
       "      <th>PERIOD</th>\n",
       "      <th>price</th>\n",
       "      <th>categ</th>\n",
       "    </tr>\n",
       "  </thead>\n",
       "  <tbody>\n",
       "    <tr>\n",
       "      <th>2981</th>\n",
       "      <td>0_1410</td>\n",
       "      <td>s_236166</td>\n",
       "      <td>c_577</td>\n",
       "      <td>2022-07-10 02:20:40</td>\n",
       "      <td>2022-07-10</td>\n",
       "      <td>2022</td>\n",
       "      <td>2022-07</td>\n",
       "      <td>NaN</td>\n",
       "      <td>NaN</td>\n",
       "      <td>NaN</td>\n",
       "      <td>14.85</td>\n",
       "      <td>0.0</td>\n",
       "    </tr>\n",
       "    <tr>\n",
       "      <th>4051</th>\n",
       "      <td>1_520</td>\n",
       "      <td>s_303000</td>\n",
       "      <td>c_5302</td>\n",
       "      <td>2022-11-26 08:49:31</td>\n",
       "      <td>2022-11-26</td>\n",
       "      <td>2022</td>\n",
       "      <td>2022-11</td>\n",
       "      <td>NaN</td>\n",
       "      <td>NaN</td>\n",
       "      <td>NaN</td>\n",
       "      <td>13.35</td>\n",
       "      <td>1.0</td>\n",
       "    </tr>\n",
       "    <tr>\n",
       "      <th>4410</th>\n",
       "      <td>1_381</td>\n",
       "      <td>s_221428</td>\n",
       "      <td>c_577</td>\n",
       "      <td>2022-06-10 02:39:48</td>\n",
       "      <td>2022-06-10</td>\n",
       "      <td>2022</td>\n",
       "      <td>2022-06</td>\n",
       "      <td>NaN</td>\n",
       "      <td>NaN</td>\n",
       "      <td>NaN</td>\n",
       "      <td>15.99</td>\n",
       "      <td>1.0</td>\n",
       "    </tr>\n",
       "    <tr>\n",
       "      <th>5572</th>\n",
       "      <td>1_735</td>\n",
       "      <td>s_258622</td>\n",
       "      <td>c_577</td>\n",
       "      <td>2022-08-26 07:33:10</td>\n",
       "      <td>2022-08-26</td>\n",
       "      <td>2022</td>\n",
       "      <td>2022-08</td>\n",
       "      <td>NaN</td>\n",
       "      <td>NaN</td>\n",
       "      <td>NaN</td>\n",
       "      <td>22.99</td>\n",
       "      <td>1.0</td>\n",
       "    </tr>\n",
       "    <tr>\n",
       "      <th>8153</th>\n",
       "      <td>0_1449</td>\n",
       "      <td>s_291654</td>\n",
       "      <td>c_577</td>\n",
       "      <td>2022-11-02 13:34:50</td>\n",
       "      <td>2022-11-02</td>\n",
       "      <td>2022</td>\n",
       "      <td>2022-11</td>\n",
       "      <td>NaN</td>\n",
       "      <td>NaN</td>\n",
       "      <td>NaN</td>\n",
       "      <td>4.99</td>\n",
       "      <td>0.0</td>\n",
       "    </tr>\n",
       "    <tr>\n",
       "      <th>...</th>\n",
       "      <td>...</td>\n",
       "      <td>...</td>\n",
       "      <td>...</td>\n",
       "      <td>...</td>\n",
       "      <td>...</td>\n",
       "      <td>...</td>\n",
       "      <td>...</td>\n",
       "      <td>...</td>\n",
       "      <td>...</td>\n",
       "      <td>...</td>\n",
       "      <td>...</td>\n",
       "      <td>...</td>\n",
       "    </tr>\n",
       "    <tr>\n",
       "      <th>323686</th>\n",
       "      <td>1_245</td>\n",
       "      <td>s_143905</td>\n",
       "      <td>c_8362</td>\n",
       "      <td>2022-01-02 14:30:08</td>\n",
       "      <td>2022-01-02</td>\n",
       "      <td>2022</td>\n",
       "      <td>2022-01</td>\n",
       "      <td>NaN</td>\n",
       "      <td>NaN</td>\n",
       "      <td>NaN</td>\n",
       "      <td>23.99</td>\n",
       "      <td>1.0</td>\n",
       "    </tr>\n",
       "    <tr>\n",
       "      <th>325867</th>\n",
       "      <td>1_28</td>\n",
       "      <td>s_182284</td>\n",
       "      <td>c_577</td>\n",
       "      <td>2022-03-21 11:56:10</td>\n",
       "      <td>2022-03-21</td>\n",
       "      <td>2022</td>\n",
       "      <td>2022-03</td>\n",
       "      <td>NaN</td>\n",
       "      <td>NaN</td>\n",
       "      <td>NaN</td>\n",
       "      <td>13.03</td>\n",
       "      <td>1.0</td>\n",
       "    </tr>\n",
       "    <tr>\n",
       "      <th>329208</th>\n",
       "      <td>1_580</td>\n",
       "      <td>s_232481</td>\n",
       "      <td>c_5302</td>\n",
       "      <td>2022-07-02 12:50:50</td>\n",
       "      <td>2022-07-02</td>\n",
       "      <td>2022</td>\n",
       "      <td>2022-07</td>\n",
       "      <td>NaN</td>\n",
       "      <td>NaN</td>\n",
       "      <td>NaN</td>\n",
       "      <td>21.09</td>\n",
       "      <td>1.0</td>\n",
       "    </tr>\n",
       "    <tr>\n",
       "      <th>333324</th>\n",
       "      <td>0_1503</td>\n",
       "      <td>s_306083</td>\n",
       "      <td>c_8362</td>\n",
       "      <td>2022-12-02 14:27:57</td>\n",
       "      <td>2022-12-02</td>\n",
       "      <td>2022</td>\n",
       "      <td>2022-12</td>\n",
       "      <td>NaN</td>\n",
       "      <td>NaN</td>\n",
       "      <td>NaN</td>\n",
       "      <td>15.99</td>\n",
       "      <td>0.0</td>\n",
       "    </tr>\n",
       "    <tr>\n",
       "      <th>342770</th>\n",
       "      <td>1_521</td>\n",
       "      <td>s_236737</td>\n",
       "      <td>c_5302</td>\n",
       "      <td>2022-07-11 04:57:20</td>\n",
       "      <td>2022-07-11</td>\n",
       "      <td>2022</td>\n",
       "      <td>2022-07</td>\n",
       "      <td>NaN</td>\n",
       "      <td>NaN</td>\n",
       "      <td>NaN</td>\n",
       "      <td>22.99</td>\n",
       "      <td>1.0</td>\n",
       "    </tr>\n",
       "  </tbody>\n",
       "</table>\n",
       "<p>115 rows × 12 columns</p>\n",
       "</div>"
      ],
      "text/plain": [
       "       id_prod session_id client_id                 Date years_month_day  \\\n",
       "2981    0_1410   s_236166     c_577  2022-07-10 02:20:40      2022-07-10   \n",
       "4051     1_520   s_303000    c_5302  2022-11-26 08:49:31      2022-11-26   \n",
       "4410     1_381   s_221428     c_577  2022-06-10 02:39:48      2022-06-10   \n",
       "5572     1_735   s_258622     c_577  2022-08-26 07:33:10      2022-08-26   \n",
       "8153    0_1449   s_291654     c_577  2022-11-02 13:34:50      2022-11-02   \n",
       "...        ...        ...       ...                  ...             ...   \n",
       "323686   1_245   s_143905    c_8362  2022-01-02 14:30:08      2022-01-02   \n",
       "325867    1_28   s_182284     c_577  2022-03-21 11:56:10      2022-03-21   \n",
       "329208   1_580   s_232481    c_5302  2022-07-02 12:50:50      2022-07-02   \n",
       "333324  0_1503   s_306083    c_8362  2022-12-02 14:27:57      2022-12-02   \n",
       "342770   1_521   s_236737    c_5302  2022-07-11 04:57:20      2022-07-11   \n",
       "\n",
       "        Year month_year  sex  birth PERIOD  price  categ  \n",
       "2981    2022    2022-07  NaN    NaN    NaN  14.85    0.0  \n",
       "4051    2022    2022-11  NaN    NaN    NaN  13.35    1.0  \n",
       "4410    2022    2022-06  NaN    NaN    NaN  15.99    1.0  \n",
       "5572    2022    2022-08  NaN    NaN    NaN  22.99    1.0  \n",
       "8153    2022    2022-11  NaN    NaN    NaN   4.99    0.0  \n",
       "...      ...        ...  ...    ...    ...    ...    ...  \n",
       "323686  2022    2022-01  NaN    NaN    NaN  23.99    1.0  \n",
       "325867  2022    2022-03  NaN    NaN    NaN  13.03    1.0  \n",
       "329208  2022    2022-07  NaN    NaN    NaN  21.09    1.0  \n",
       "333324  2022    2022-12  NaN    NaN    NaN  15.99    0.0  \n",
       "342770  2022    2022-07  NaN    NaN    NaN  22.99    1.0  \n",
       "\n",
       "[115 rows x 12 columns]"
      ]
     },
     "metadata": {},
     "output_type": "display_data"
    }
   ],
   "source": [
    "# Vérification des données manquantes après jointure\n",
    "display(df_merged[(df_merged['sex'].isnull()) & (df_merged['birth'].isnull()) & (df_merged['PERIOD'].isnull())])"
   ]
  },
  {
   "cell_type": "code",
   "execution_count": 50,
   "id": "45a1171b",
   "metadata": {},
   "outputs": [
    {
     "name": "stdout",
     "output_type": "stream",
     "text": [
      "Le client c_577 représente environ : 0.0193 % du dataset\n",
      "Le client c_5302 représente environ : 0.0058 % du dataset\n",
      "Le client c_8362 représente environ : 0.0081 % du dataset\n"
     ]
    }
   ],
   "source": [
    "# Volume des données concernées dans le DF\n",
    "def fun_temp(input_str):\n",
    "    print('Le client ' + input_str + ' représente environ :',\n",
    "          round((len(df_merged[df_merged['client_id'] == input_str]) / len(df_merged) * 100), 4),\n",
    "          '% du dataset')\n",
    "\n",
    "fun_temp('c_577')\n",
    "fun_temp('c_5302')\n",
    "fun_temp('c_8362')\n",
    "\n",
    "del fun_temp"
   ]
  },
  {
   "cell_type": "markdown",
   "id": "acb509ad",
   "metadata": {},
   "source": [
    "### Observations :\n",
    "Pour ces trois clients, nous ne disposons pas de leur date de naissance, ni de leur genre. Ils ne représentent que peu de données. Nous décidons de les garder pour utiliser certaines données correspondantes à ces lignes (price), mais nous les supprimerons lorsque nous analyserons le profil client des acheteurs. Nous n'avons pas la possibilité de déterminer une valeur fixe ou de modéliser cette valeur."
   ]
  },
  {
   "cell_type": "code",
   "execution_count": 45,
   "id": "fa27dcec",
   "metadata": {
    "scrolled": true
   },
   "outputs": [
    {
     "data": {
      "text/html": [
       "<div>\n",
       "<style scoped>\n",
       "    .dataframe tbody tr th:only-of-type {\n",
       "        vertical-align: middle;\n",
       "    }\n",
       "\n",
       "    .dataframe tbody tr th {\n",
       "        vertical-align: top;\n",
       "    }\n",
       "\n",
       "    .dataframe thead th {\n",
       "        text-align: right;\n",
       "    }\n",
       "</style>\n",
       "<table border=\"1\" class=\"dataframe\">\n",
       "  <thead>\n",
       "    <tr style=\"text-align: right;\">\n",
       "      <th></th>\n",
       "      <th>id_prod</th>\n",
       "      <th>session_id</th>\n",
       "      <th>client_id</th>\n",
       "      <th>Date</th>\n",
       "      <th>years_month_day</th>\n",
       "      <th>Year</th>\n",
       "      <th>month_year</th>\n",
       "      <th>sex</th>\n",
       "      <th>birth</th>\n",
       "      <th>PERIOD</th>\n",
       "      <th>price</th>\n",
       "      <th>categ</th>\n",
       "    </tr>\n",
       "  </thead>\n",
       "  <tbody>\n",
       "    <tr>\n",
       "      <th>1317</th>\n",
       "      <td>0_2245</td>\n",
       "      <td>s_272266</td>\n",
       "      <td>c_4746</td>\n",
       "      <td>2022-09-23 07:22:38</td>\n",
       "      <td>2022-09-23</td>\n",
       "      <td>2022</td>\n",
       "      <td>2022-09</td>\n",
       "      <td>m</td>\n",
       "      <td>1940.0</td>\n",
       "      <td>1940 - 1944</td>\n",
       "      <td>NaN</td>\n",
       "      <td>NaN</td>\n",
       "    </tr>\n",
       "    <tr>\n",
       "      <th>5098</th>\n",
       "      <td>0_2245</td>\n",
       "      <td>s_242482</td>\n",
       "      <td>c_6713</td>\n",
       "      <td>2022-07-23 09:24:14</td>\n",
       "      <td>2022-07-23</td>\n",
       "      <td>2022</td>\n",
       "      <td>2022-07</td>\n",
       "      <td>f</td>\n",
       "      <td>1963.0</td>\n",
       "      <td>1960 - 1964</td>\n",
       "      <td>NaN</td>\n",
       "      <td>NaN</td>\n",
       "    </tr>\n",
       "    <tr>\n",
       "      <th>5920</th>\n",
       "      <td>0_2245</td>\n",
       "      <td>s_306338</td>\n",
       "      <td>c_5108</td>\n",
       "      <td>2022-12-03 03:26:35</td>\n",
       "      <td>2022-12-03</td>\n",
       "      <td>2022</td>\n",
       "      <td>2022-12</td>\n",
       "      <td>m</td>\n",
       "      <td>1978.0</td>\n",
       "      <td>1975 - 1979</td>\n",
       "      <td>NaN</td>\n",
       "      <td>NaN</td>\n",
       "    </tr>\n",
       "    <tr>\n",
       "      <th>8291</th>\n",
       "      <td>0_2245</td>\n",
       "      <td>s_239078</td>\n",
       "      <td>c_7954</td>\n",
       "      <td>2022-07-16 05:53:01</td>\n",
       "      <td>2022-07-16</td>\n",
       "      <td>2022</td>\n",
       "      <td>2022-07</td>\n",
       "      <td>m</td>\n",
       "      <td>1973.0</td>\n",
       "      <td>1970 - 1974</td>\n",
       "      <td>NaN</td>\n",
       "      <td>NaN</td>\n",
       "    </tr>\n",
       "    <tr>\n",
       "      <th>10391</th>\n",
       "      <td>0_2245</td>\n",
       "      <td>s_300389</td>\n",
       "      <td>c_8524</td>\n",
       "      <td>2022-11-20 20:21:06</td>\n",
       "      <td>2022-11-20</td>\n",
       "      <td>2022</td>\n",
       "      <td>2022-11</td>\n",
       "      <td>f</td>\n",
       "      <td>1982.0</td>\n",
       "      <td>1980 - 1984</td>\n",
       "      <td>NaN</td>\n",
       "      <td>NaN</td>\n",
       "    </tr>\n",
       "    <tr>\n",
       "      <th>...</th>\n",
       "      <td>...</td>\n",
       "      <td>...</td>\n",
       "      <td>...</td>\n",
       "      <td>...</td>\n",
       "      <td>...</td>\n",
       "      <td>...</td>\n",
       "      <td>...</td>\n",
       "      <td>...</td>\n",
       "      <td>...</td>\n",
       "      <td>...</td>\n",
       "      <td>...</td>\n",
       "      <td>...</td>\n",
       "    </tr>\n",
       "    <tr>\n",
       "      <th>338725</th>\n",
       "      <td>0_2245</td>\n",
       "      <td>s_287959</td>\n",
       "      <td>c_7102</td>\n",
       "      <td>2022-10-25 19:58:42</td>\n",
       "      <td>2022-10-25</td>\n",
       "      <td>2022</td>\n",
       "      <td>2022-10</td>\n",
       "      <td>m</td>\n",
       "      <td>1983.0</td>\n",
       "      <td>1980 - 1984</td>\n",
       "      <td>NaN</td>\n",
       "      <td>NaN</td>\n",
       "    </tr>\n",
       "    <tr>\n",
       "      <th>339339</th>\n",
       "      <td>0_2245</td>\n",
       "      <td>s_257900</td>\n",
       "      <td>c_5120</td>\n",
       "      <td>2022-08-24 17:35:59</td>\n",
       "      <td>2022-08-24</td>\n",
       "      <td>2022</td>\n",
       "      <td>2022-08</td>\n",
       "      <td>f</td>\n",
       "      <td>1975.0</td>\n",
       "      <td>1975 - 1979</td>\n",
       "      <td>NaN</td>\n",
       "      <td>NaN</td>\n",
       "    </tr>\n",
       "    <tr>\n",
       "      <th>342043</th>\n",
       "      <td>0_2245</td>\n",
       "      <td>s_175311</td>\n",
       "      <td>c_4167</td>\n",
       "      <td>2022-03-06 19:59:19</td>\n",
       "      <td>2022-03-06</td>\n",
       "      <td>2022</td>\n",
       "      <td>2022-03</td>\n",
       "      <td>f</td>\n",
       "      <td>1979.0</td>\n",
       "      <td>1975 - 1979</td>\n",
       "      <td>NaN</td>\n",
       "      <td>NaN</td>\n",
       "    </tr>\n",
       "    <tr>\n",
       "      <th>342354</th>\n",
       "      <td>0_2245</td>\n",
       "      <td>s_209381</td>\n",
       "      <td>c_4453</td>\n",
       "      <td>2022-05-16 11:35:20</td>\n",
       "      <td>2022-05-16</td>\n",
       "      <td>2022</td>\n",
       "      <td>2022-05</td>\n",
       "      <td>m</td>\n",
       "      <td>1981.0</td>\n",
       "      <td>1980 - 1984</td>\n",
       "      <td>NaN</td>\n",
       "      <td>NaN</td>\n",
       "    </tr>\n",
       "    <tr>\n",
       "      <th>344572</th>\n",
       "      <td>0_2245</td>\n",
       "      <td>s_163405</td>\n",
       "      <td>c_1098</td>\n",
       "      <td>2022-02-11 09:05:43</td>\n",
       "      <td>2022-02-11</td>\n",
       "      <td>2022</td>\n",
       "      <td>2022-02</td>\n",
       "      <td>m</td>\n",
       "      <td>1986.0</td>\n",
       "      <td>1985 - 1989</td>\n",
       "      <td>NaN</td>\n",
       "      <td>NaN</td>\n",
       "    </tr>\n",
       "  </tbody>\n",
       "</table>\n",
       "<p>120 rows × 12 columns</p>\n",
       "</div>"
      ],
      "text/plain": [
       "       id_prod session_id client_id                 Date years_month_day  \\\n",
       "1317    0_2245   s_272266    c_4746  2022-09-23 07:22:38      2022-09-23   \n",
       "5098    0_2245   s_242482    c_6713  2022-07-23 09:24:14      2022-07-23   \n",
       "5920    0_2245   s_306338    c_5108  2022-12-03 03:26:35      2022-12-03   \n",
       "8291    0_2245   s_239078    c_7954  2022-07-16 05:53:01      2022-07-16   \n",
       "10391   0_2245   s_300389    c_8524  2022-11-20 20:21:06      2022-11-20   \n",
       "...        ...        ...       ...                  ...             ...   \n",
       "338725  0_2245   s_287959    c_7102  2022-10-25 19:58:42      2022-10-25   \n",
       "339339  0_2245   s_257900    c_5120  2022-08-24 17:35:59      2022-08-24   \n",
       "342043  0_2245   s_175311    c_4167  2022-03-06 19:59:19      2022-03-06   \n",
       "342354  0_2245   s_209381    c_4453  2022-05-16 11:35:20      2022-05-16   \n",
       "344572  0_2245   s_163405    c_1098  2022-02-11 09:05:43      2022-02-11   \n",
       "\n",
       "        Year month_year sex   birth       PERIOD  price  categ  \n",
       "1317    2022    2022-09   m  1940.0  1940 - 1944    NaN    NaN  \n",
       "5098    2022    2022-07   f  1963.0  1960 - 1964    NaN    NaN  \n",
       "5920    2022    2022-12   m  1978.0  1975 - 1979    NaN    NaN  \n",
       "8291    2022    2022-07   m  1973.0  1970 - 1974    NaN    NaN  \n",
       "10391   2022    2022-11   f  1982.0  1980 - 1984    NaN    NaN  \n",
       "...      ...        ...  ..     ...          ...    ...    ...  \n",
       "338725  2022    2022-10   m  1983.0  1980 - 1984    NaN    NaN  \n",
       "339339  2022    2022-08   f  1975.0  1975 - 1979    NaN    NaN  \n",
       "342043  2022    2022-03   f  1979.0  1975 - 1979    NaN    NaN  \n",
       "342354  2022    2022-05   m  1981.0  1980 - 1984    NaN    NaN  \n",
       "344572  2022    2022-02   m  1986.0  1985 - 1989    NaN    NaN  \n",
       "\n",
       "[120 rows x 12 columns]"
      ]
     },
     "execution_count": 45,
     "metadata": {},
     "output_type": "execute_result"
    }
   ],
   "source": [
    "# Vérification des données manquantes après jointure\n",
    "df_merged[(df_merged['price'].isnull()) & (df_merged['categ'].isnull())]"
   ]
  },
  {
   "cell_type": "code",
   "execution_count": 46,
   "id": "e1912cc0",
   "metadata": {
    "scrolled": true
   },
   "outputs": [
    {
     "name": "stdout",
     "output_type": "stream",
     "text": [
      "Le produit 0_2245 représente environ : 0.03 % du dataset\n"
     ]
    }
   ],
   "source": [
    "# Volume des données concernées dans le DF\n",
    "df_merged[df_merged['id_prod']=='0_2245']\n",
    "print('Le produit 0_2245 représente environ :', round((len(df_merged[df_merged['id_prod']=='0_2245']) / len(df_merged) * 100), 2), '% du dataset')"
   ]
  },
  {
   "cell_type": "code",
   "execution_count": 109,
   "id": "bcc9e917",
   "metadata": {
    "scrolled": false
   },
   "outputs": [
    {
     "data": {
      "image/png": "[encoded data removed]",
      "text/plain": [
       "<Figure size 720x360 with 2 Axes>"
      ]
     },
     "metadata": {},
     "output_type": "display_data"
    }
   ],
   "source": [
    "# Recherche d'une corrélation entre variables par une matrice de corrélation\n",
    "plt.figure(figsize=(10, 5))\n",
    "heatmap = sns.heatmap(df_merged.corr(), mask=np.triu(np.ones_like(df_merged.corr(), dtype=np.bool_)), vmin=-1, vmax=1, annot=True, cmap='RdGy')\n",
    "heatmap.set_title('MATRICE DE CORRELATION',weight='bold', fontdict={'fontsize':20}, pad=24)\n",
    "plt.xticks(rotation=45)\n",
    "plt.show()"
   ]
  },
  {
   "cell_type": "code",
   "execution_count": 48,
   "id": "00298037",
   "metadata": {},
   "outputs": [],
   "source": [
    "# Remplacement des identifiants\n",
    "df_merged['categ'].replace(np.nan, 0, inplace=True)\n",
    "\n",
    "# Remplacement du prix\n",
    "df_merged['price'].replace(np.nan, 10.32, inplace=True)"
   ]
  },
  {
   "cell_type": "markdown",
   "id": "a637a621",
   "metadata": {},
   "source": [
    "### Observations :\n",
    "Les indices de corrélation confirment que la variable des catégories est la plus à même d'expliquer la variable des prix. Dans une moindre mesure, la variable de l'âge semble également avoir un impact sur celle des prix.\n",
    "Nous décidons de remplacer le contenu de la variable categ pour ce produit par 0 et le prix par le prix médian définit plus tôt en amont.\n",
    "\n",
    "Après cela, nous procédons à l'enregistrement du fichier au format csv."
   ]
  },
  {
   "cell_type": "code",
   "execution_count": 49,
   "id": "ee6d2909",
   "metadata": {},
   "outputs": [],
   "source": [
    "# Enregistrement du nouveau fichier \n",
    "df_merged.to_csv('Data.csv', index=False)"
   ]
  },
  {
   "cell_type": "markdown",
   "id": "1ccaff2e",
   "metadata": {},
   "source": [
    "Nous sommes à présent prêt pour débuter l'analyse et répondre aux questions demandées."
   ]
  },
  {
   "cell_type": "code",
   "execution_count": null,
   "id": "91dcdb79",
   "metadata": {},
   "outputs": [],
   "source": []
  }
 ],
 "metadata": {
  "kernelspec": {
   "display_name": "Python 3 (ipykernel)",
   "language": "python",
   "name": "python3"
  },
  "language_info": {
   "codemirror_mode": {
    "name": "ipython",
    "version": 3
   },
   "file_extension": ".py",
   "mimetype": "text/x-python",
   "name": "python",
   "nbconvert_exporter": "python",
   "pygments_lexer": "ipython3",
   "version": "3.9.12"
  }
 },
 "nbformat": 4,
 "nbformat_minor": 5
}
